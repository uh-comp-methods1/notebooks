{
 "cells": [
  {
   "cell_type": "markdown",
   "id": "8810eae3-a5ec-49a3-a152-aeb46c41b6dc",
   "metadata": {
    "slideshow": {
     "slide_type": "slide"
    }
   },
   "source": [
    "# Ordinary differential equations: introduction\n",
    "\n",
    "\n",
    "This notebook is based on Chapter 12 of \n",
    "\n",
    "<a id='thebook'></a>\n",
    "\n",
    "> Süli, Endre and Mayers, David F. _An introduction to numerical analysis_. Cambridge University Press, Cambridge, 2003. <https://doi.org/10.1017/CBO9780511801181> (ebook in [Helka](https://helka.helsinki.fi/permalink/358UOH_INST/1h3k2rg/alma9926836783506253)) \n",
    "\n",
    "\n",
    "Ordinary differential equations are ubiquitous. For example, if forces acting on a particle are known, they can be substituted into Newton's second law to obtain an ordinary differential equation. This is the basis of [classical mechanics](https://en.wikipedia.org/wiki/Classical_mechanics). Another example is given by [compartmental models in epidemiology](https://en.wikipedia.org/wiki/Compartmental_models_in_epidemiology). \n",
    "\n",
    "For instance, the [JHUAPL-Bucky](https://docs.buckymodel.com/en/latest/model_overview.html) model, developed in the Johns Hopkins University Applied Physics Lab, is a COVID-19 metapopulation compartment model initally designed to estimate case incidence and healthcare usage at the county level in the United States. It is written using the Python ecosystem, with the code available in [GitHub](https://github.com/mattkinsey/bucky)."
   ]
  },
  {
   "cell_type": "markdown",
   "id": "4b376d80",
   "metadata": {
    "slideshow": {
     "slide_type": "slide"
    }
   },
   "source": [
    "# Initial value problem\n",
    "\n",
    "Let $f : \\mathbb R \\times \\mathbb R \\to \\mathbb R$ be a continuously differentiable function, and consider the differential equation\n",
    "\n",
    "$$\n",
    "y' = f(x, y)\n",
    "$$\n",
    "\n",
    "for a function $y(x)$. We want to solve for $y$ on an interval $[a, b]$, with $a < b$, given the initial condition $y(a) = y_0$, with $y_0 \\in \\mathbb R$.\n",
    "A problem of this form is called an _initial value problem_, and assuming that $b-a$ is small, it has a unique solution due to the [Picard-Lindelöf theorem](https://en.wikipedia.org/wiki/Picard%E2%80%93Lindel%C3%B6f_theorem)."
   ]
  },
  {
   "cell_type": "markdown",
   "id": "4d54fe79",
   "metadata": {
    "slideshow": {
     "slide_type": "slide"
    }
   },
   "source": [
    "# Euler's method\n",
    "\n",
    "The initial value problem \n",
    "\n",
    "$$\n",
    "y' = f(x, y), \\quad y(a) = y_0,\n",
    "$$\n",
    "\n",
    "can be solved using Euler's method. We choose $N = 1, 2, \\dots$,\n",
    "and define the _uniform mesh_ of size $h = (b-a)/N$ on $[a, b]$ by \n",
    "\n",
    "$$\n",
    "x_n = a + nh, \\qquad n=0,\\dots,N.\n",
    "$$\n",
    "\n",
    "Note that $x_0 = a$ and $x_N = b$. Then we define\n",
    "\n",
    "$$\n",
    "y_{n+1} = y_n + h f(x_n, y_n), \\qquad n = 0,\\dots,N-1.\n",
    "$$\n",
    "\n",
    "We will show below that $y_n$ is close to $y(x_n)$ when $h$ is small. \n",
    "Here $y$ is the unique solution to the initial value problem."
   ]
  },
  {
   "cell_type": "markdown",
   "id": "2b0f19ce-b02a-4ff9-aa1d-3e2f5e969d05",
   "metadata": {
    "slideshow": {
     "slide_type": "slide"
    }
   },
   "source": [
    "One way to motivate Euler's method is to replace $y'$ by its forward finite difference approximation\n",
    "\n",
    "$$\n",
    "y'(x_n) \\approx \\frac{y(x_{n+1}) - y(x_{n})}{h}.\n",
    "$$\n",
    "\n",
    "Then solving for $y(x_{n+1})$ and using the equation $y' = f(x, y)$,\n",
    "\n",
    "$$\n",
    "y(x_{n+1}) \\approx y(x_{n}) + h y'(x_n) = y(x_{n}) + h f(x_n, y(x_n)).\n",
    "$$"
   ]
  },
  {
   "cell_type": "markdown",
   "id": "6aebf9aa-04bb-4898-a29b-d9a7a701ef8c",
   "metadata": {
    "slideshow": {
     "slide_type": "slide"
    }
   },
   "source": [
    "## Example: testing Euler's method\n",
    "\n",
    "Let us consider a differential equation of the form\n",
    "\n",
    "$$\n",
    "y' = y^2 + g(x), \\quad y(0) = y_0.\n",
    "$$\n",
    "\n",
    "In general, we prefer to test a computational method against a solution given in closed form. A way to do this is to first choose the solution then compute the source terms. As a concrete example, let \n",
    "\n",
    "$$\n",
    "y = \\frac{(1-x)(2-x)}{1+x}\n",
    "$$\n",
    "\n",
    "and then define \n",
    "\n",
    "$$\n",
    "g = y' - y^2 =  \\frac{- x^{4} + 6 x^{3} - 12 x^{2} + 14 x - 9}{(x + 1)^{2}},\n",
    "\\quad\n",
    "y_0 = y(0) = 2. \n",
    "$$"
   ]
  },
  {
   "cell_type": "code",
   "execution_count": 65,
   "id": "73af8c23-d961-467b-bedb-c5eef3256894",
   "metadata": {
    "slideshow": {
     "slide_type": "slide"
    }
   },
   "outputs": [
    {
     "data": {
      "text/latex": [
       "$\\displaystyle \\frac{- x^{4} + 6 x^{3} - 12 x^{2} + 14 x - 9}{x^{2} + 2 x + 1}$"
      ],
      "text/plain": [
       "(-x**4 + 6*x**3 - 12*x**2 + 14*x - 9)/(x**2 + 2*x + 1)"
      ]
     },
     "execution_count": 65,
     "metadata": {},
     "output_type": "execute_result"
    }
   ],
   "source": [
    "# Let's verify the symbolic computation \n",
    "import sympy as sp\n",
    "from sympy.abc import x\n",
    "y = (1-x)*(2-x) / (1+x)\n",
    "g = sp.simplify(sp.diff(y, x) - y**2)\n",
    "g"
   ]
  },
  {
   "cell_type": "code",
   "execution_count": 66,
   "id": "96f8c91b-9afc-44ca-bb06-00197e89c15a",
   "metadata": {
    "slideshow": {
     "slide_type": "fragment"
    }
   },
   "outputs": [
    {
     "name": "stdout",
     "output_type": "stream",
     "text": [
      "(-x**4 + 6*x**3 - 12*x**2 + 14*x - 9)/(x**2 + 2*x + 1)\n"
     ]
    }
   ],
   "source": [
    "# Let's display g also in Python \n",
    "# (This is useful for copy-pasting)\n",
    "print(g)"
   ]
  },
  {
   "cell_type": "code",
   "execution_count": 67,
   "id": "b6477742-c332-4c06-a821-3bbdc3afe277",
   "metadata": {
    "slideshow": {
     "slide_type": "slide"
    }
   },
   "outputs": [],
   "source": [
    "import numpy as np\n",
    "def euler_demo(f, y0, x):\n",
    "    '''Euler's method'''\n",
    "    N = np.size(x)\n",
    "    h = x[1] - x[0] # suppose uniform mesh\n",
    "    y = np.zeros(N)\n",
    "    y[0] = y0\n",
    "    for n in range(N-1):\n",
    "        y[n+1] = y[n] + h * f(x[n],y[n]) \n",
    "    return y"
   ]
  },
  {
   "cell_type": "code",
   "execution_count": 68,
   "id": "7a475bed-d67d-4fb6-8826-64e7b7bd942f",
   "metadata": {
    "slideshow": {
     "slide_type": "slide"
    }
   },
   "outputs": [
    {
     "data": {
      "image/png": "[encoded data removed]",
      "text/plain": [
       "<Figure size 640x480 with 1 Axes>"
      ]
     },
     "metadata": {},
     "output_type": "display_data"
    }
   ],
   "source": [
    "def g(x):\n",
    "    return (-x**4 + 6*x**3 - 12*x**2 + 14*x - 9)/(x**2 + 2*x + 1)\n",
    "def f(x, y):\n",
    "    return y**2 + g(x)\n",
    "y0 = 2\n",
    "\n",
    "X = 1.6; N = 8\n",
    "xs = np.linspace(0, X, N)\n",
    "ys = euler_demo(f, y0, xs)\n",
    "\n",
    "# Let's compare with the true solution\n",
    "import matplotlib.pyplot as plt\n",
    "y_exact = sp.lambdify(x, y)\n",
    "plt.plot(xs, ys, 'ro')\n",
    "xs_plot = np.linspace(0, X)\n",
    "plt.plot(xs_plot, y_exact(xs_plot), 'b');"
   ]
  },
  {
   "cell_type": "code",
   "execution_count": 69,
   "id": "ef4ff8bd-a0dc-44a4-8a33-81f31ee43974",
   "metadata": {
    "slideshow": {
     "slide_type": "slide"
    }
   },
   "outputs": [
    {
     "data": {
      "image/png": "[encoded data removed]",
      "text/plain": [
       "<Figure size 640x480 with 1 Axes>"
      ]
     },
     "metadata": {},
     "output_type": "display_data"
    }
   ],
   "source": [
    "# Let's see how the method converges\n",
    "Ns = 8 * np.array([1, 2, 4])\n",
    "markers = ['ro', 'm*', 'g.']\n",
    "for n in range(np.size(Ns)):\n",
    "    N = Ns[n]\n",
    "    xs = np.linspace(0, X, N)\n",
    "    ys = euler_demo(f, y0, xs)\n",
    "    plt.plot(xs, ys, markers[n])\n",
    "plt.plot(xs_plot, y_exact(xs_plot), 'b');"
   ]
  },
  {
   "cell_type": "markdown",
   "id": "48c6c303",
   "metadata": {
    "slideshow": {
     "slide_type": "slide"
    }
   },
   "source": [
    "# One-step methods\n",
    "\n",
    "A one-step method is of the form\n",
    "\n",
    "$$\n",
    "y_{n+1} = y_n + h \\Phi(x_n, y_n, h)\n",
    "$$\n",
    "\n",
    "where $\\Phi$ is a continuous function defining the method. \n",
    "\n",
    "For example, Euler's method corresponds to \n",
    "\n",
    "$$\n",
    "\\Phi(x,y,h) = f(x,y).\n",
    "$$"
   ]
  },
  {
   "cell_type": "markdown",
   "id": "c6cd15c1-5a7a-4e78-95d9-37e55e866458",
   "metadata": {
    "slideshow": {
     "slide_type": "slide"
    }
   },
   "source": [
    "<div style=\"padding:25px; border: 2px solid gray;\">\n",
    "\n",
    "## Theorem: convergence of one-step method\n",
    "\n",
    "Let $Y \\subset \\mathbb R$ and $y : [a, b] \\to Y$.\n",
    "Suppose that there are $L, h_0 > 0$ s.t. for all $h \\in [0, h_0]$, $x \\in [a, b]$ and $u,v \\in Y$ \n",
    "\n",
    "\\begin{align*}\n",
    "|\\Phi(x,u,h) - \\Phi(x,v,h)| \\le L |u - v|.\n",
    "\\end{align*}\n",
    "\n",
    "Let $x_n$, $n = 0, \\dots, N$, be the uniform mesh of size $h \\in (0, h_0)$ on $[a,b]$, define $y_{n+1} = y_n + h \\Phi(x_n, y_n, h)$, $y_0 = y(a)$, and suppose $y_n \\in Y$ for all $n = 1,\\dots,N$.\n",
    "Then\n",
    "\n",
    "\\begin{align*}\n",
    "|y(x_n) - y_n| \\le \\frac{T}{L} \\left( e^{L (x_n - x_0)} - 1\\right),\n",
    "\\quad n=0,\\dots,N,\n",
    "\\end{align*}\n",
    "\n",
    "where $T$ is the maximum over $n = 0,\\dots,N-1$ and $h \\in [0,h_0]$ of the absolute values of truncation errors\n",
    "\n",
    "\\begin{align*}\n",
    "T_n = \\frac{y(x_{n+1}) - y(x_{n})}{h} - \\Phi(x_n, y(x_n), h).\n",
    "\\end{align*}\n",
    "</div>\n",
    "\n",
    "For a proof, see Theorem 12.2 of [the book](#thebook). The proof is based on the next lemma. "
   ]
  },
  {
   "cell_type": "markdown",
   "id": "0e8edc47",
   "metadata": {
    "slideshow": {
     "slide_type": "slide"
    }
   },
   "source": [
    "<div style=\"padding:25px; border: 2px solid gray;\">\n",
    "\n",
    "## Lemma: recursive affine bound\n",
    "\n",
    "Let $k > 1$, $b \\ge 0$ and $x_0 = 0$. Suppose that a sequence $x_n \\ge 0$, $n = 1, 2, \\dots$, satisfies\n",
    "\n",
    "$$\n",
    "x_{n+1} \\le k x_n + b.\n",
    "$$\n",
    "Then \n",
    "$$\n",
    "x_n \\le b \\frac{k^n - 1}{k - 1}.\n",
    "$$\n",
    "</div>"
   ]
  },
  {
   "cell_type": "markdown",
   "id": "9ff10ac2",
   "metadata": {
    "slideshow": {
     "slide_type": "fragment"
    }
   },
   "source": [
    "_Proof_. Let us prove by induction that $x_n \\le b (k^{n-1} + \\dots + k + 1)$. It follows from  $x_0 = 0$ that the base case $x_1 \\le b$ holds. Using the inductive hypothesis, the induction step\n",
    "\n",
    "$$\n",
    "x_{n+1} \\le k x_n + b \\le k b (k^{n-1} + \\dots + 1) + b = b (k^n + \\dots + 1)\n",
    "$$\n",
    "\n",
    "is proven. We conclude by using the [formula for a geometric sum](https://en.wikipedia.org/wiki/Geometric_series#Sum),\n",
    "\n",
    "$$\n",
    "x_n \\le b (k^{n-1} + \\dots + k + 1) = b \\frac{1 - k^n}{1 - k}.\n",
    "$$\n",
    "$\\blacksquare$"
   ]
  },
  {
   "cell_type": "markdown",
   "id": "3af983d3-59dc-437f-a89e-e5c4ac322bab",
   "metadata": {
    "slideshow": {
     "slide_type": "slide"
    }
   },
   "source": [
    "The truncation error for Euler's method coincides with the error in forward finite difference. Indeed,\n",
    "\n",
    "$$\n",
    "T_n = \\frac{y(x_{n+1}) - y(x_{n})}{h} - f(x_n, y(x_n))\n",
    "= \\frac{y(x_{n+1}) - y(x_{n})}{h} - y'(x_n).\n",
    "$$\n",
    "\n",
    "Hence, by the error in forward finite difference corollary, \n",
    "\n",
    "\\begin{align*}\n",
    "|T_n| \\le h \\|y''\\|_\\infty.\n",
    "\\end{align*}\n",
    "\n",
    "Writing $C = e^{L (b- a)}/L$, there holds\n",
    "\n",
    "$$\n",
    "\\quad\\text{and}\\quad\n",
    "|y(x_n) - y_n| \\le C\\|y''\\|_\\infty h.\n",
    "$$\n",
    "\n",
    "We say that Euler's method is first order accurate."
   ]
  },
  {
   "cell_type": "markdown",
   "id": "ddc388b3-5f2e-4106-97af-e83217eee450",
   "metadata": {
    "slideshow": {
     "slide_type": "slide"
    }
   },
   "source": [
    "## Trapezium rule method\n",
    "\n",
    "The trapezium rule method is defined by \n",
    "\n",
    "$$\n",
    "y_{n+1} = y_n + \\frac h 2 (f(x_n, y_n) + f(x_{n+1}, y_{n+1})).\n",
    "$$\n",
    "\n",
    "Observe that $y_{n+1}$ appears on the right-hand side. Methods with this property are called _implicit_, in contrast to _explicit_ methods such as Euler's method. \n",
    "\n",
    "The trapezium rule method is motivated by writing \n",
    "\n",
    "\\begin{align*}\n",
    "y(x_{n+1}) - y(x_n) \n",
    "&= \n",
    "\\int_{x_n}^{x_{n+1}} y'(x) dx \n",
    "= \n",
    "\\int_{x_n}^{x_{n+1}} f(x, y(x)) dx\n",
    "\\\\&\\approx \n",
    "\\frac h 2 (f(x_n, y(x_n)) + f(x_{n+1}, y(x_{n+1}))),\n",
    "\\end{align*}\n",
    "\n",
    "where we used the trapezium rule to approximate the integral."
   ]
  },
  {
   "cell_type": "markdown",
   "id": "304852e5-1ee6-4219-a512-484e53486772",
   "metadata": {
    "slideshow": {
     "slide_type": "slide"
    }
   },
   "source": [
    "The trapezium rule method can be viewed as a one-step method with $\\Phi$ defined implicitly by \n",
    "\n",
    "$$\n",
    "\\Phi(x,y,h) = \\frac 1 2 (f(x, y) + f(x + h, y + h \\Phi(x,y,h))).\n",
    "$$\n",
    "\n",
    "Observe that the equation \n",
    "\n",
    "$$\n",
    "\\phi - \\frac h 2 (f(x, y) + f(x + h, y + h \\phi)) = 0\n",
    "$$\n",
    "\n",
    "has the solution $\\phi = 0$ in the case that $h=0$. \n",
    "Differentiating the left-hand side of the equation with respect to $\\phi$ at $h = 0$\n",
    "gives $1$. Hence the [implicit function theorem](https://en.wikipedia.org/wiki/Implicit_function_theorem) guarantees that there is a unique small solution for small $h>0$. The solution $\\phi$ will depend on $x$, $y$ and $h$, and it defines the function $\\Phi$. "
   ]
  },
  {
   "cell_type": "markdown",
   "id": "ab9f413d-6608-4002-88a9-20a0c0677186",
   "metadata": {
    "slideshow": {
     "slide_type": "slide"
    }
   },
   "source": [
    "Suppose that $f$ is [Lipschitz continuous](https://en.wikipedia.org/wiki/Lipschitz_continuity) with a constant $K > 0$. Then $\\Phi$ is Lipschitz continuous in its second argument, as required in the convergence of one-step method theorem. Indeed, \n",
    "\n",
    "\\begin{align*}\n",
    "&|\\Phi(x, u, h) - \\Phi(x, v, h)|\n",
    "\\\\&\\quad\\le \n",
    "\\frac 1 2 |f(x,u) - f(x, v)| \n",
    "\\\\&\\qquad+ \\frac 1 2 |f(x+h, u + h \\Phi(x, u, h)) - f(x+h, v + h \\Phi(x, v, h))|\n",
    "\\\\&\\quad\\le \n",
    "\\frac K 2 |u - v| \n",
    "+ \\frac K 2 |u + h \\Phi(x, u, h) - (v + h \\Phi(x, v, h))|\n",
    "\\\\&\\quad\\le \n",
    " K  |u - v| + h \\frac K 2 |\\Phi(x, u, h) - \\Phi(x, v, h)|,\n",
    "\\end{align*}\n",
    "\n",
    "and, for small $h>0$, we can take $L = K / (1-hK/2)$ using the notation from the theorem.\n"
   ]
  },
  {
   "cell_type": "markdown",
   "id": "f2035dbe-3d79-4588-998e-ba44e9039e09",
   "metadata": {
    "slideshow": {
     "slide_type": "slide"
    }
   },
   "source": [
    "To apply the convergence of one-step method theorem, we still need to bound the truncation error\n",
    "\n",
    "\\begin{align*}\n",
    "T_n \n",
    "&= \n",
    "\\frac{y(x_{n+1}) - y(x_{n})}{h} - \\Phi(x_n, y(x_n), h)\n",
    "\\\\&= \n",
    "\\frac{y(x_{n+1}) - y(x_{n})}{h} - \\frac 1 2 (f(x_n, y(x_n)) + f(x_n + h, y(x_n) + h \\Phi(x_n, y(x_n), h)))\n",
    "\\\\&= T_{n,1} + T_{n,2},\n",
    "\\end{align*}\n",
    "where\n",
    "\\begin{align*}\n",
    "T_{n,1} &= \\frac{y(x_{n+1}) - y(x_{n})}{h} - \\frac 1 2 (f(x_n, y(x_n)) + f(x_{n+1}, y(x_{n+1}))),\n",
    "\\\\\n",
    "2 T_{n,2} &= f(x_{n+1}, y(x_{n+1})) - f(x_n + h, y(x_n) + h \\Phi(x_n, y(x_n), h)).\n",
    "\\end{align*}"
   ]
  },
  {
   "cell_type": "markdown",
   "id": "a8212bc3",
   "metadata": {
    "slideshow": {
     "slide_type": "slide"
    }
   },
   "source": [
    "We have \n",
    "\\begin{align*}\n",
    "T_{n,1}&=\n",
    "\\frac{y(x_{n+1}) - y(x_{n})}{h} - \\frac 1 2 (f(x_n, y(x_n)) + f(x_{n+1}, y(x_{n+1})))\n",
    "\\\\&= \n",
    "\\frac 1 h \\left( \\int_{x_n}^{x_{n+1}} f(x,y(x)) dx  - \\frac h 2 (f(x_n, y(x_n)) + f(x_{n+1}, y(x_{n+1}))) \\right).\n",
    "\\end{align*}\n",
    "\n",
    "But this is just the error in the trapezium rule, multiplied by $h^{-1}$.\n",
    "Writing $F(x) = f(x,y(x))$, the error in Newton-Cotes theorem gives\n",
    "\n",
    "$$\n",
    "T_{n,1} \\le \\|(h\\partial)^2 F\\|_\\infty.\n",
    "$$\n",
    "\n",
    "We will show that also $T_{n,2} \\le C h^2$ for some $C > 0$. Then the convergence of one-step method theorem implies that \n",
    "$$\n",
    "|y(x_n) - y_n| \\le C h^2.\n",
    "$$\n",
    "\n",
    "We say that the trapezium rule method is second order accurate."
   ]
  },
  {
   "cell_type": "markdown",
   "id": "d77ac780",
   "metadata": {
    "slideshow": {
     "slide_type": "slide"
    }
   },
   "source": [
    "We expand in Taylor series\n",
    "\n",
    "\\begin{align*}\n",
    "2 T_{n,2} \n",
    "&= \n",
    "f(x_{n+1}, y(x_{n+1})) - f(x_n + h, y(x_n) + h \\Phi(x_n, y(x_n), h))\n",
    "\\\\&= \n",
    "f(x_n, y(x_n)) + h \\partial_x f(x_n, y(x_n)) + h \\partial_y f(x_n, y(x_n)) y'(x_n)\n",
    "\\\\&\\quad-\n",
    "(f(x_n, y(x_n)) + h \\partial_x f(x_n, y(x_n)) + h \\partial_y f(x_n, y(x_n)) \\Phi(x_n, y(x_n), 0)) + \\mathcal O(h^2).\n",
    "\\end{align*}\n",
    "\n",
    "It remains to show that $\\Phi(x_n, y(x_n), 0) = y'(x_n)$. But\n",
    "\n",
    "$$\n",
    "\\Phi(x_n, y(x_n), 0)\n",
    "= \n",
    "\\frac 1 2 (f(x_n, y(x_n)) + f(x_n, y(x_n))\n",
    "= f(x_n, y(x_n)) = y'(x_n).\n",
    "$$"
   ]
  },
  {
   "cell_type": "markdown",
   "id": "8826344e-7235-4082-8c57-53afdd53133b",
   "metadata": {
    "slideshow": {
     "slide_type": "slide"
    }
   },
   "source": [
    "## Example: testing the trapezium rule method\n",
    "\n",
    "Let us consider again the differential equation \n",
    "\n",
    "$$\n",
    "y' = y^2 + g(x), \\quad y(0) = y_0.\n",
    "$$\n",
    "\n",
    "where $g$ is as in the [testing Euler's method example](#Example:-testing-Euler's-method). We will solve $y_{n+1}$ from $F_n(y_{n+1}) = 0$ where \n",
    "\n",
    "$$\n",
    "F_n(y) = y - y_n - \\frac h 2 (f(x_n, y_n) + f(x_{n+1}, y)),\n",
    "$$\n",
    "\n",
    "by using Newton's method. For this we need to compute also the derivative\n",
    "\n",
    "$$\n",
    "F_n'(y) = 1 - \\frac h 2 \\partial_y f(x_{n+1}, y).\n",
    "$$\n",
    "\n",
    "For the example problem, $f(x,y) = y^2 + g(x)$ and $\\partial_y f(x,y) = 2 y$."
   ]
  },
  {
   "cell_type": "code",
   "execution_count": 70,
   "id": "486f9837-0320-4c62-90f1-4532038162ec",
   "metadata": {
    "slideshow": {
     "slide_type": "slide"
    }
   },
   "outputs": [],
   "source": [
    "import scipy.optimize as opt\n",
    "\n",
    "def trapezium_demo(f, dfdy, y0, x):\n",
    "    '''Trapezium rule method'''\n",
    "    N = np.size(x)\n",
    "    h = x[1] - x[0] # suppose uniform mesh\n",
    "    y = np.zeros(N)\n",
    "    y[0] = y0\n",
    "    for n in range(N-1):\n",
    "        def F(yy):\n",
    "            return yy - y[n] - h/2 * (f(x[n], y[n]) + f(x[n+1], yy))\n",
    "        def dF(yy):\n",
    "            return 1 - h/2 * dfdy(x[n+1], yy)\n",
    "        y[n+1] = opt.newton(F, y[n], dF)\n",
    "    return y"
   ]
  },
  {
   "cell_type": "code",
   "execution_count": 71,
   "id": "1f88e0be-b90e-4ff2-a655-76380d2a6063",
   "metadata": {
    "slideshow": {
     "slide_type": "slide"
    }
   },
   "outputs": [
    {
     "data": {
      "image/png": "[encoded data removed]",
      "text/plain": [
       "<Figure size 640x480 with 1 Axes>"
      ]
     },
     "metadata": {},
     "output_type": "display_data"
    }
   ],
   "source": [
    "def dfdy(x, y):\n",
    "    return 2*y\n",
    "\n",
    "X = 1.6; N = 8\n",
    "xs = np.linspace(0, X, N)\n",
    "ys = trapezium_demo(f, dfdy, y0, xs)\n",
    "\n",
    "# Let's compare with the true solution, and with Euler\n",
    "plt.plot(xs, ys, 'go', label='Trapezium')\n",
    "ys = euler_demo(f, y0, xs)\n",
    "plt.plot(xs, ys, 'ro', label='Euler')\n",
    "xs_plot = np.linspace(0, X)\n",
    "plt.plot(xs_plot, y_exact(xs_plot), 'b', label='Exact')\n",
    "plt.legend();"
   ]
  },
  {
   "cell_type": "code",
   "execution_count": 72,
   "id": "8b8ec080-9456-4792-a4f9-dd5efd82128a",
   "metadata": {
    "slideshow": {
     "slide_type": "slide"
    }
   },
   "outputs": [
    {
     "data": {
      "image/png": "[encoded data removed]",
      "text/plain": [
       "<Figure size 640x480 with 1 Axes>"
      ]
     },
     "metadata": {},
     "output_type": "display_data"
    }
   ],
   "source": [
    "Ns = 8 * np.array([2**n for n in range(5)])\n",
    "err_euler = np.zeros(np.size(Ns))\n",
    "err_trapz = np.zeros(np.size(Ns))\n",
    "for n in range(np.size(Ns)):\n",
    "    N = Ns[n]\n",
    "    xs = np.linspace(0, X, N)\n",
    "    ys_exact = y_exact(xs)\n",
    "    ys_euler = euler_demo(f, y0, xs)\n",
    "    ys_trapz = trapezium_demo(f, dfdy, y0, xs)\n",
    "    err_euler[n] = np.max(np.abs(ys_euler - ys_exact))\n",
    "    err_trapz[n] = np.max(np.abs(ys_trapz - ys_exact))\n",
    "\n",
    "plt.loglog(Ns, err_euler, 'r', label='Euler')  \n",
    "plt.loglog(Ns, np.array(Ns, dtype=float)**(-1), 'k:', label='ref 1st order')  \n",
    "plt.loglog(Ns, err_trapz, 'g', label='Trapezium');\n",
    "plt.loglog(Ns, np.array(Ns, dtype=float)**(-2), 'k--', label='ref 2nd order')  \n",
    "plt.legend();"
   ]
  },
  {
   "cell_type": "markdown",
   "id": "c6b13943",
   "metadata": {},
   "source": [
    "## Example: backward Euler\n",
    "\n",
    "This is a first order method which looks like the (forward) Euler but is actually closer (but worse) then the Trapezium method.\n",
    "\n",
    "The update rule is\n",
    "$$ y_{n+1} = y_n + hf(x_{n+1}, y_{n+1}),$$\n",
    "so it is again an implicit method and we need some way of solving for $y_{n+1}$. Let's try the previous problem one more time."
   ]
  },
  {
   "cell_type": "code",
   "execution_count": 84,
   "id": "8966def8",
   "metadata": {},
   "outputs": [],
   "source": [
    "def beuler_demo(f, dfdy, y0, x):\n",
    "    '''Backward Euler's method'''\n",
    "    N = np.size(x)\n",
    "    h = x[1] - x[0] # suppose uniform mesh\n",
    "    y = np.zeros(N)\n",
    "    y[0] = y0\n",
    "    for n in range(N-1):\n",
    "        def F(yy):\n",
    "            return yy - y[n] - h * f(x[n+1], yy)\n",
    "        def dF(yy):\n",
    "            return 1 - h * dfdy(x[n+1], yy)\n",
    "        y[n+1] = opt.newton(F, y[n], dF)\n",
    "    return y"
   ]
  },
  {
   "cell_type": "code",
   "execution_count": 91,
   "id": "2a47f5d0",
   "metadata": {},
   "outputs": [
    {
     "data": {
      "image/png": "[encoded data removed]",
      "text/plain": [
       "<Figure size 640x480 with 1 Axes>"
      ]
     },
     "metadata": {},
     "output_type": "display_data"
    }
   ],
   "source": [
    "X = 1.0; N = 8\n",
    "xs = np.linspace(0, X, N)\n",
    "ys = beuler_demo(f, dfdy, y0, xs)\n",
    "\n",
    "plt.plot(xs, ys, 'ko', label='Backward Euler')\n",
    "\n",
    "# Let's compare with the true solution, and the previous methods\n",
    "ys = trapezium_demo(f, dfdy, y0, xs)\n",
    "plt.plot(xs, ys, 'go', label='Trapezium')\n",
    "ys = euler_demo(f, y0, xs)\n",
    "plt.plot(xs, ys, 'ro', label='Euler')\n",
    "xs_plot = np.linspace(0, X)\n",
    "plt.plot(xs_plot, y_exact(xs_plot), 'b', label='Exact')\n",
    "plt.legend();"
   ]
  },
  {
   "cell_type": "markdown",
   "id": "a7a7c2be",
   "metadata": {
    "slideshow": {
     "slide_type": "slide"
    }
   },
   "source": [
    "# Asymptotical stability as $x$ grows\n",
    "\n",
    "Let $\\lambda > 0$, $y_0 \\in \\mathbb R$, and consider the equation \n",
    "\n",
    "\\begin{align*}\n",
    "y' = -\\lambda y, \\quad y(0) = y_0.\n",
    "\\end{align*}\n",
    "\n",
    "The solution is $y(x) = e^{-\\lambda x} y_0$ and $|y(x)| \\to 0$ as $x \\to \\infty$.\n",
    "\n",
    "Applying Euler's method to the equation gives\n",
    "\n",
    "\\begin{align*}\n",
    "y_{n+1} = y_n - h \\lambda y_n,\n",
    "\\end{align*}\n",
    "\n",
    "and an induction shows that $y_n = (1-h\\lambda)^n y_0$. If $h \\lambda > 2$ then $1 - h\\lambda < -1$,\n",
    "and $|y_n| \\to \\infty$ as $n \\to \\infty$, assuming that $y_0 \\ne 0$. \n",
    "\n",
    "Although the exact solution converges very fast to zero when $\\lambda \\gg 1$, the approximation given by Euler's method diverges unless $h < 2 / \\lambda$."
   ]
  },
  {
   "cell_type": "markdown",
   "id": "6394d888",
   "metadata": {
    "slideshow": {
     "slide_type": "slide"
    }
   },
   "source": [
    "Applying the trapezium rule to the same equation gives\n",
    "\n",
    "\\begin{align*}\n",
    "y_{n+1} = y_n - \\frac h 2 \\lambda(y_n + y_{n+1}) \\quad \\iff \\quad \n",
    "\\left(1 + \\frac {h\\lambda} 2 \\right) y_{n+1} = \\left(1 - \\frac {h\\lambda} 2 \\right) y_n.\n",
    "\\end{align*}\n",
    "\n",
    "Writing $c = h\\lambda /2$, an induction gives\n",
    "\n",
    "\\begin{align*}\n",
    "y_n = \\left(\\frac{1-c}{1+c}\\right)^n y_0. \n",
    "\\end{align*}\n",
    "\n",
    "It is easy to see that $|y_n| \\to 0$ as $n \\to \\infty$, regardless of the choice of $h > 0$. Implicit methods have typically better behaviour than explicit methods when $x$ is large.  "
   ]
  },
  {
   "cell_type": "code",
   "execution_count": 92,
   "id": "ab03b5af",
   "metadata": {
    "slideshow": {
     "slide_type": "slide"
    }
   },
   "outputs": [
    {
     "data": {
      "image/png": "[encoded data removed]",
      "text/plain": [
       "<Figure size 640x480 with 1 Axes>"
      ]
     },
     "metadata": {},
     "output_type": "display_data"
    }
   ],
   "source": [
    "lam = 15\n",
    "def f(x,y):\n",
    "    return -lam*y\n",
    "def dfdy(x,y):\n",
    "    return -lam\n",
    "def ytrue(x):\n",
    "    return np.exp(-lam*x)\n",
    "y0 = 1\n",
    "X = 1; N = 8\n",
    "xs = np.linspace(0, X, N)\n",
    "ys = euler_demo(f, y0, xs)\n",
    "plt.plot(xs, ys, 'ro-', label='Euler')\n",
    "ys = trapezium_demo(f, dfdy, y0, xs)\n",
    "plt.plot(xs, ys, 'g.-', label='Trapezium')\n",
    "xs_plot = np.linspace(0, X)\n",
    "plt.plot(xs_plot, ytrue(xs_plot), 'b--', label='True')\n",
    "plt.legend();"
   ]
  },
  {
   "cell_type": "markdown",
   "id": "cd16791d-e267-49c6-b71b-fa955ec066e3",
   "metadata": {
    "slideshow": {
     "slide_type": "slide"
    }
   },
   "source": [
    "# Systems of differential equations\n",
    "\n",
    "The equation \n",
    "\n",
    "$$\n",
    "\\mathbf y' = \\mathbf f(t, \\mathbf y)\n",
    "$$\n",
    "\n",
    "gives a system of differential equations for $\\mathbf y(t)$ when $\\mathbf f : \\mathbb R \\times \\mathbb R^n \\to \\mathbb R^n$ is a continuously differentiable function and $n = 2, 3, \\dots$.\n",
    "\n",
    "The above discussion applies without changes to systems. "
   ]
  },
  {
   "cell_type": "markdown",
   "id": "d62a4348",
   "metadata": {
    "slideshow": {
     "slide_type": "slide"
    }
   },
   "source": [
    "## Stiffness\n",
    "\n",
    "Let $\\lambda_1, \\lambda_2 > 0$ and $\\mathbf y_0 \\in \\mathbb R^2$, write\n",
    "\n",
    "$$\n",
    "\\mathbf y_0 = \n",
    "\\begin{pmatrix}\n",
    "y_0^1 \\\\ y_0^2\n",
    "\\end{pmatrix},\n",
    "\\quad\n",
    "\\Lambda = \n",
    "\\begin{pmatrix}\n",
    "\\lambda_1 & \\\\ & \\lambda_2\n",
    "\\end{pmatrix},\n",
    "$$\n",
    "\n",
    "and consider the equation \n",
    "\n",
    "$$\n",
    "\\mathbf y'\n",
    "= \n",
    "-\\Lambda \\mathbf y, \\quad \\mathbf y(0) = \\mathbf y_0.\n",
    "$$\n",
    "\n",
    "The solution is \n",
    "\n",
    "$$\n",
    "\\mathbf y(t) = \n",
    "\\begin{pmatrix}\n",
    "e^{-\\lambda_1 t} y_0^1 \n",
    "\\\\\n",
    "e^{-\\lambda_2 t} y_0^2\n",
    "\\end{pmatrix},\n",
    "$$\n",
    "\n",
    "and $|\\mathbf y(t)| \\to 0$ as $t \\to \\infty$. "
   ]
  },
  {
   "cell_type": "markdown",
   "id": "f9525cf0",
   "metadata": {
    "slideshow": {
     "slide_type": "slide"
    }
   },
   "source": [
    "Applying Euler's method to the equation gives $\\mathbf y_{n+1} = \\mathbf y_n - h\\Lambda \\mathbf y_n$,\n",
    "and an induction shows that \n",
    "\n",
    "$$\n",
    "\\mathbf y_{n} = \n",
    "\\begin{pmatrix}\n",
    "(1 - h\\lambda_1)^n y_0^1 \n",
    "\\\\\n",
    "(1 - h\\lambda_2)^n y_0^2\n",
    "\\end{pmatrix}.\n",
    "$$\n",
    "\n",
    "Now $|\\mathbf y_n| \\to 0$ as $n \\to \\infty$ only if $h < 2/\\lambda_j$, $j=1,2$. \n",
    "\n",
    "We say that the system $\\mathbf y' = -\\Lambda \\mathbf y$ is stiff if $\\lambda_1 \\ll \\lambda_2$. \n",
    "This is an informal definition: what it means for $\\lambda_2$ to be large in comparison to $\\lambda_1$ is context dependent. We can think that a stiff system has two distinct time scales.\n",
    "\n",
    "More generally, for $A \\in \\mathbb C^{n \\times n}$, the system \n",
    "$\\mathbf y' = A \\mathbf y$ is said to be stiff if the eigenvalues of $A$ have negative real parts and if $|\\mathrm{Re}\\lambda_1| \\ll |\\mathrm{Re}\\lambda_2|$ for some eigenvalues $\\lambda_1$ and $\\lambda_2$. Even more generally, we may consider an equation of the form $\\mathbf y' = \\mathbf f(t, \\mathbf y)$ and look at the eigenvalues of $A = \\partial_{\\mathbf y} \\mathbf f(s, \\mathbf z)$ for some $s$ and $\\mathbf z$. As a rule of thumb, implicit methods should be used for stiff systems."
   ]
  },
  {
   "cell_type": "code",
   "execution_count": 93,
   "id": "cac4c1fa",
   "metadata": {
    "slideshow": {
     "slide_type": "slide"
    }
   },
   "outputs": [],
   "source": [
    "# We need to modify the methods slightly to make them work in any dimension\n",
    "\n",
    "def euler_demo_ndim(f, y0, x):\n",
    "    '''Euler's method'''\n",
    "    N = np.size(x)\n",
    "    h = x[1] - x[0] # suppose uniform mesh\n",
    "    y = np.zeros((N, *np.shape(y0)))\n",
    "    y[0] = y0\n",
    "    for n in range(N-1):\n",
    "        y[n+1] = y[n] + h * f(x[n],y[n]) \n",
    "    return y\n",
    "\n",
    "def trapezium_demo_ndim(f, dfdy, y0, x):\n",
    "    '''Trapezium rule method'''\n",
    "    N = np.size(x)\n",
    "    h = x[1] - x[0] # suppose uniform mesh\n",
    "    y = np.zeros((N, *np.shape(y0)))\n",
    "    y[0] = y0\n",
    "    for n in range(N-1):\n",
    "        def F(yy):\n",
    "            return yy - y[n] - h/2 * (f(x[n], y[n]) + f(x[n+1], yy))\n",
    "        def dF(yy):\n",
    "            return 1 - h/2 * dfdy(x[n+1], yy)\n",
    "        sol = opt.root(F, y[n], jac=dF)\n",
    "        y[n+1] = sol.x \n",
    "    return y"
   ]
  },
  {
   "cell_type": "markdown",
   "id": "5192833f",
   "metadata": {
    "slideshow": {
     "slide_type": "slide"
    }
   },
   "source": [
    "## Example: stiff system\n",
    "\n",
    "Consider the system $\\mathbf y' = A \\mathbf y$ with the initial condition $\\mathbf y(0) = \\mathbf y_0$ where \n",
    "\n",
    "$$\n",
    "A = \\begin{pmatrix}\n",
    "-8003 & 1999\n",
    "\\\\\n",
    "23988 & -6004\n",
    "\\end{pmatrix},\n",
    "\\quad\n",
    "\\mathbf y_0 = \\begin{pmatrix}\n",
    "1 \\\\ 4\n",
    "\\end{pmatrix}.\n",
    "$$\n",
    "\n",
    "The first component of the exact solution is $e^{-7x}$, see p. 345 of the book."
   ]
  },
  {
   "cell_type": "code",
   "execution_count": 94,
   "id": "359d54b0",
   "metadata": {
    "slideshow": {
     "slide_type": "slide"
    }
   },
   "outputs": [],
   "source": [
    "A = np.array([\n",
    "[-8003, 1999],\n",
    "[23988, -6004],\n",
    "], dtype=float)\n",
    "def f(x, y):\n",
    "    return A @ y\n",
    "def dfdy(x, y):\n",
    "    return A\n",
    "def y1_exact(x):\n",
    "    return np.exp(-7*x)\n",
    "\n",
    "y0 = np.array([1, 4], dtype=float)\n",
    "h = 0.004\n",
    "N = 14\n",
    "xs = np.arange(0, N*h, h)\n",
    "y1_euler = euler_demo_ndim(f, y0, xs)[:,0]\n",
    "y1_trapz = trapezium_demo_ndim(f, dfdy, y0, xs)[:,0]"
   ]
  },
  {
   "cell_type": "code",
   "execution_count": 95,
   "id": "edd1a9fa",
   "metadata": {
    "slideshow": {
     "slide_type": "slide"
    }
   },
   "outputs": [
    {
     "name": "stdout",
     "output_type": "stream",
     "text": [
      "np.linalg.eigvals(A) = array([-1.4e+04, -7.0e+00])\n"
     ]
    },
    {
     "data": {
      "text/html": [
       "<style type=\"text/css\">\n",
       "</style>\n",
       "<table id=\"T_87b12\">\n",
       "  <thead>\n",
       "    <tr>\n",
       "      <th class=\"blank level0\" >&nbsp;</th>\n",
       "      <th id=\"T_87b12_level0_col0\" class=\"col_heading level0 col0\" >x</th>\n",
       "      <th id=\"T_87b12_level0_col1\" class=\"col_heading level0 col1\" >$y_1$</th>\n",
       "      <th id=\"T_87b12_level0_col2\" class=\"col_heading level0 col2\" >Trapezium</th>\n",
       "      <th id=\"T_87b12_level0_col3\" class=\"col_heading level0 col3\" >Euler</th>\n",
       "    </tr>\n",
       "  </thead>\n",
       "  <tbody>\n",
       "    <tr>\n",
       "      <th id=\"T_87b12_level0_row0\" class=\"row_heading level0 row0\" >0</th>\n",
       "      <td id=\"T_87b12_row0_col0\" class=\"data row0 col0\" >0.000</td>\n",
       "      <td id=\"T_87b12_row0_col1\" class=\"data row0 col1\" >1.000</td>\n",
       "      <td id=\"T_87b12_row0_col2\" class=\"data row0 col2\" >1.000</td>\n",
       "      <td id=\"T_87b12_row0_col3\" class=\"data row0 col3\" >1.000</td>\n",
       "    </tr>\n",
       "    <tr>\n",
       "      <th id=\"T_87b12_level0_row1\" class=\"row_heading level0 row1\" >1</th>\n",
       "      <td id=\"T_87b12_row1_col0\" class=\"data row1 col0\" >0.004</td>\n",
       "      <td id=\"T_87b12_row1_col1\" class=\"data row1 col1\" >0.972</td>\n",
       "      <td id=\"T_87b12_row1_col2\" class=\"data row1 col2\" >0.972</td>\n",
       "      <td id=\"T_87b12_row1_col3\" class=\"data row1 col3\" >0.972</td>\n",
       "    </tr>\n",
       "    <tr>\n",
       "      <th id=\"T_87b12_level0_row2\" class=\"row_heading level0 row2\" >2</th>\n",
       "      <td id=\"T_87b12_row2_col0\" class=\"data row2 col0\" >0.008</td>\n",
       "      <td id=\"T_87b12_row2_col1\" class=\"data row2 col1\" >0.946</td>\n",
       "      <td id=\"T_87b12_row2_col2\" class=\"data row2 col2\" >0.946</td>\n",
       "      <td id=\"T_87b12_row2_col3\" class=\"data row2 col3\" >0.945</td>\n",
       "    </tr>\n",
       "    <tr>\n",
       "      <th id=\"T_87b12_level0_row3\" class=\"row_heading level0 row3\" >3</th>\n",
       "      <td id=\"T_87b12_row3_col0\" class=\"data row3 col0\" >0.012</td>\n",
       "      <td id=\"T_87b12_row3_col1\" class=\"data row3 col1\" >0.919</td>\n",
       "      <td id=\"T_87b12_row3_col2\" class=\"data row3 col2\" >0.919</td>\n",
       "      <td id=\"T_87b12_row3_col3\" class=\"data row3 col3\" >0.918</td>\n",
       "    </tr>\n",
       "    <tr>\n",
       "      <th id=\"T_87b12_level0_row4\" class=\"row_heading level0 row4\" >4</th>\n",
       "      <td id=\"T_87b12_row4_col0\" class=\"data row4 col0\" >0.016</td>\n",
       "      <td id=\"T_87b12_row4_col1\" class=\"data row4 col1\" >0.894</td>\n",
       "      <td id=\"T_87b12_row4_col2\" class=\"data row4 col2\" >0.894</td>\n",
       "      <td id=\"T_87b12_row4_col3\" class=\"data row4 col3\" >0.893</td>\n",
       "    </tr>\n",
       "    <tr>\n",
       "      <th id=\"T_87b12_level0_row5\" class=\"row_heading level0 row5\" >5</th>\n",
       "      <td id=\"T_87b12_row5_col0\" class=\"data row5 col0\" >0.020</td>\n",
       "      <td id=\"T_87b12_row5_col1\" class=\"data row5 col1\" >0.869</td>\n",
       "      <td id=\"T_87b12_row5_col2\" class=\"data row5 col2\" >0.869</td>\n",
       "      <td id=\"T_87b12_row5_col3\" class=\"data row5 col3\" >0.868</td>\n",
       "    </tr>\n",
       "    <tr>\n",
       "      <th id=\"T_87b12_level0_row6\" class=\"row_heading level0 row6\" >6</th>\n",
       "      <td id=\"T_87b12_row6_col0\" class=\"data row6 col0\" >0.024</td>\n",
       "      <td id=\"T_87b12_row6_col1\" class=\"data row6 col1\" >0.845</td>\n",
       "      <td id=\"T_87b12_row6_col2\" class=\"data row6 col2\" >0.845</td>\n",
       "      <td id=\"T_87b12_row6_col3\" class=\"data row6 col3\" >0.843</td>\n",
       "    </tr>\n",
       "    <tr>\n",
       "      <th id=\"T_87b12_level0_row7\" class=\"row_heading level0 row7\" >7</th>\n",
       "      <td id=\"T_87b12_row7_col0\" class=\"data row7 col0\" >0.028</td>\n",
       "      <td id=\"T_87b12_row7_col1\" class=\"data row7 col1\" >0.822</td>\n",
       "      <td id=\"T_87b12_row7_col2\" class=\"data row7 col2\" >0.822</td>\n",
       "      <td id=\"T_87b12_row7_col3\" class=\"data row7 col3\" >0.820</td>\n",
       "    </tr>\n",
       "    <tr>\n",
       "      <th id=\"T_87b12_level0_row8\" class=\"row_heading level0 row8\" >8</th>\n",
       "      <td id=\"T_87b12_row8_col0\" class=\"data row8 col0\" >0.032</td>\n",
       "      <td id=\"T_87b12_row8_col1\" class=\"data row8 col1\" >0.799</td>\n",
       "      <td id=\"T_87b12_row8_col2\" class=\"data row8 col2\" >0.799</td>\n",
       "      <td id=\"T_87b12_row8_col3\" class=\"data row8 col3\" >0.797</td>\n",
       "    </tr>\n",
       "    <tr>\n",
       "      <th id=\"T_87b12_level0_row9\" class=\"row_heading level0 row9\" >9</th>\n",
       "      <td id=\"T_87b12_row9_col0\" class=\"data row9 col0\" >0.036</td>\n",
       "      <td id=\"T_87b12_row9_col1\" class=\"data row9 col1\" >0.777</td>\n",
       "      <td id=\"T_87b12_row9_col2\" class=\"data row9 col2\" >0.777</td>\n",
       "      <td id=\"T_87b12_row9_col3\" class=\"data row9 col3\" >0.773</td>\n",
       "    </tr>\n",
       "    <tr>\n",
       "      <th id=\"T_87b12_level0_row10\" class=\"row_heading level0 row10\" >10</th>\n",
       "      <td id=\"T_87b12_row10_col0\" class=\"data row10 col0\" >0.040</td>\n",
       "      <td id=\"T_87b12_row10_col1\" class=\"data row10 col1\" >0.756</td>\n",
       "      <td id=\"T_87b12_row10_col2\" class=\"data row10 col2\" >0.756</td>\n",
       "      <td id=\"T_87b12_row10_col3\" class=\"data row10 col3\" >0.817</td>\n",
       "    </tr>\n",
       "    <tr>\n",
       "      <th id=\"T_87b12_level0_row11\" class=\"row_heading level0 row11\" >11</th>\n",
       "      <td id=\"T_87b12_row11_col0\" class=\"data row11 col0\" >0.044</td>\n",
       "      <td id=\"T_87b12_row11_col1\" class=\"data row11 col1\" >0.735</td>\n",
       "      <td id=\"T_87b12_row11_col2\" class=\"data row11 col2\" >0.735</td>\n",
       "      <td id=\"T_87b12_row11_col3\" class=\"data row11 col3\" >-2.827</td>\n",
       "    </tr>\n",
       "    <tr>\n",
       "      <th id=\"T_87b12_level0_row12\" class=\"row_heading level0 row12\" >12</th>\n",
       "      <td id=\"T_87b12_row12_col0\" class=\"data row12 col0\" >0.048</td>\n",
       "      <td id=\"T_87b12_row12_col1\" class=\"data row12 col1\" >0.715</td>\n",
       "      <td id=\"T_87b12_row12_col2\" class=\"data row12 col2\" >0.715</td>\n",
       "      <td id=\"T_87b12_row12_col3\" class=\"data row12 col3\" >196.464</td>\n",
       "    </tr>\n",
       "    <tr>\n",
       "      <th id=\"T_87b12_level0_row13\" class=\"row_heading level0 row13\" >13</th>\n",
       "      <td id=\"T_87b12_row13_col0\" class=\"data row13 col0\" >0.052</td>\n",
       "      <td id=\"T_87b12_row13_col1\" class=\"data row13 col1\" >0.695</td>\n",
       "      <td id=\"T_87b12_row13_col2\" class=\"data row13 col2\" >0.695</td>\n",
       "      <td id=\"T_87b12_row13_col3\" class=\"data row13 col3\" >-10765.694</td>\n",
       "    </tr>\n",
       "  </tbody>\n",
       "</table>\n"
      ],
      "text/plain": [
       "<pandas.io.formats.style.Styler at 0x7fbec5a037a0>"
      ]
     },
     "execution_count": 95,
     "metadata": {},
     "output_type": "execute_result"
    }
   ],
   "source": [
    "print(f'{np.linalg.eigvals(A) = }')\n",
    "import pandas as pd\n",
    "df = pd.DataFrame({'x': xs, '$y_1$': y1_exact(xs), 'Trapezium': y1_trapz, 'Euler': y1_euler})\n",
    "df.style.format('{:.3f}')"
   ]
  },
  {
   "cell_type": "markdown",
   "id": "cde6f123-d20a-4160-a31c-48de9ec88548",
   "metadata": {
    "slideshow": {
     "slide_type": "slide"
    }
   },
   "source": [
    "## Example: geodesics\n",
    "\n",
    "Let $g : \\mathbb R^n \\to \\mathbb R^{n \\times n}$ be a smooth (i.e. infinitely many times differentiable) function that takes values in symmetric positive definite matrices. In other words, $g(x)$ is an inner product on $\\mathbb R^n$ for each $x \\in \\mathbb R^n$. Such $g$ is called a [Riemannian metric](https://en.wikipedia.org/wiki/Riemannian_manifold) on $\\mathbb R^n$. \n",
    "\n",
    "A continuous function $\\gamma : [a, b] \\to \\mathbb R^n$, with $a < b$, gives a curve in $\\mathbb R^n$, and if $\\gamma$ is differentiable, we can define its length with respect to $g$ by \n",
    "\n",
    "$$\n",
    "L(\\gamma) = \\int_a^b \\sqrt{\\dot \\gamma^j(t) g_{jk}(\\gamma(t)) \\dot \\gamma^k(t)} dt.\n",
    "$$\n",
    "\n",
    "Here $\\dot \\gamma = \\partial_t \\gamma$ is the derivative of $\\gamma$ and we are using the [Einstein summation notation](https://en.wikipedia.org/wiki/Einstein_notation)."
   ]
  },
  {
   "cell_type": "markdown",
   "id": "c253cad0",
   "metadata": {
    "slideshow": {
     "slide_type": "slide"
    }
   },
   "source": [
    "If $\\gamma$ is a local minimizer of the length functional $L$ among curves with the same end points, then it satisfies the [Euler–Lagrange equations](https://en.wikipedia.org/wiki/Euler%E2%80%93Lagrange_equation)\n",
    "\n",
    "$$\n",
    "\\ddot \\gamma^i + \\Gamma_{kl}^i \\dot \\gamma^k \\dot \\gamma^l = 0,\n",
    "\\qquad i=1,\\dots,n,\n",
    "$$\n",
    "\n",
    "where $\\ddot \\gamma = \\partial_t^2 \\gamma$, and the [Christoffel symbols](https://en.wikipedia.org/wiki/Christoffel_symbols) are defined by\n",
    "\n",
    "$$\n",
    "\\Gamma_{kl}^i = \\frac{1}{2} g^{im} \\left(\\frac{\\partial g_{mk}}{\\partial x^l} + \\frac{\\partial g_{ml}}{\\partial x^k} - \\frac{\\partial g_{kl}}{\\partial x^m} \\right).\n",
    "$$\n",
    "\n",
    "Here the $g^{im}$, with the indices as a superscript, stands for the inverse of the matrix $g$."
   ]
  },
  {
   "cell_type": "markdown",
   "id": "ace39194-4e47-4d91-85fc-5b91d225c2ab",
   "metadata": {
    "slideshow": {
     "slide_type": "slide"
    }
   },
   "source": [
    "To simplify the discussion, we will now assume that $n=2$.\n",
    "We write $x^0$ and $x^1$ for the coordinates on $\\mathbb R^2$ as indexing starting from zero is convenient with Python. \n",
    "Moreover, we define \n",
    "\n",
    "$$\n",
    "y = (y^0, y^1, y^2, y^3) =(\\gamma^0, \\gamma^1, \\dot \\gamma^0, \\dot \\gamma^1).\n",
    "$$\n",
    "\n",
    "Then $y' = f(t, y)$ where \n",
    "\n",
    "\\begin{align*}\n",
    "f(t, y)\n",
    "&= \n",
    "(\\dot \\gamma^0, \\dot \\gamma^1, -\\Gamma_{kl}^0 \\dot \\gamma^k \\dot \\gamma^l, -\\Gamma_{kl}^1 \\dot \\gamma^k \\dot \\gamma^l)\n",
    "\\\\&=\n",
    "(y^2, y^3, -\\sum_{k,l=0}^1 \\Gamma_{kl}^0 y^{k+2} y^{l+2}, -\\sum_{k,l=0}^1 \\Gamma_{kl}^1 y^{k+2} y^{l+2}).\n",
    "\\end{align*}"
   ]
  },
  {
   "cell_type": "markdown",
   "id": "f703e79e-556b-41e4-be76-95cf898cd425",
   "metadata": {
    "slideshow": {
     "slide_type": "slide"
    }
   },
   "source": [
    "Let $g(x) = c^{-2}(x) I$ where $I$ is the identity matrix and $c(x)$ is a strictly positive function. \n",
    "\n",
    "This case arises, for example, when we study trajectories of [wave packet](https://en.wikipedia.org/wiki/Wave_packet) solutions to the wave equation \n",
    "\n",
    "$$\n",
    "\\partial_t^2 u - c^2(x) \\Delta u = 0,\n",
    "$$\n",
    "\n",
    "with a spatially varying wave speed $c(x)$. We take\n",
    "\n",
    "$$\n",
    "c(x^0, x^1) = 1 + x^1.\n",
    "$$\n",
    "\n",
    "This can be thought as a toy model for Earth's mantle with the $x^1$ coordinate giving the depth from the surface. The speed of [seismic waves](https://en.wikipedia.org/wiki/Seismic_wave) increases in depth."
   ]
  },
  {
   "cell_type": "code",
   "execution_count": 96,
   "id": "da52a670-be58-4e3b-9344-8604558e94d2",
   "metadata": {
    "slideshow": {
     "slide_type": "slide"
    }
   },
   "outputs": [],
   "source": [
    "import sympy as sp\n",
    "x0 = sp.Symbol('x0')\n",
    "x1 = sp.Symbol('x1')\n",
    "x = [x0, x1] # Point in the plane\n",
    "c_expr = 1 + x1 # Symbolic expression for wave speed\n",
    "g = c_expr**(-2)*sp.eye(2) # Riemannian metric associated to the wave speed\n",
    "\n",
    "def Gamma_expr(i, k, l):\n",
    "    '''Symbolic expressions for Christoffel symbols'''\n",
    "    out = 0\n",
    "    for m in [0,1]:\n",
    "        out += 1/2 * g.inv()[i, m] * (\n",
    "            sp.diff(g[m, k], x[l]) + sp.diff(g[m, l], x[k]) - sp.diff(g[k, l], x[m]))\n",
    "    return sp.simplify(out)\n",
    "\n",
    "# Wave speed and Christoffel symbols as functions\n",
    "c = sp.lambdify([x0, x1], c_expr)\n",
    "Gamma = [[[sp.lambdify([x0, x1], Gamma_expr(i, k, l)) \n",
    "            for l in [0,1]] for k in [0,1]] for i in [0,1]]\n",
    "\n",
    "def f(t, y): \n",
    "    '''Right-hand side corresponding to Euler-Lagrange equations for geodesics'''\n",
    "    out = np.zeros(4)\n",
    "    out[0], out[1] = y[2], y[3] \n",
    "    for k in [0,1]:\n",
    "        for l in [0,1]:\n",
    "            out[2] -= Gamma[0][k][l](y[0], y[1]) * y[k+2] * y[l+2]\n",
    "            out[3] -= Gamma[1][k][l](y[0], y[1]) * y[k+2] * y[l+2]\n",
    "    return out"
   ]
  },
  {
   "cell_type": "code",
   "execution_count": 97,
   "id": "7a1fdd56-4e07-49a5-bf07-324a2f0417df",
   "metadata": {
    "slideshow": {
     "slide_type": "slide"
    }
   },
   "outputs": [],
   "source": [
    "def geod(x0, x1, alpha, ts):\n",
    "    '''Solve the geodesic gamma(t) starting from point (x0, x1) to the direction\n",
    "        that has angle alpha with the x0 axis for t in ts'''\n",
    "    y0 = np.array([x0, x1, np.cos(alpha), np.sin(alpha)]) \n",
    "    ys = euler_demo_ndim(f, y0, ts)\n",
    "    # Throw away the derivative of gamma\n",
    "    return ys[:,0], ys[:,1]"
   ]
  },
  {
   "cell_type": "code",
   "execution_count": 98,
   "id": "4b09ec87-1295-430e-ba6b-bc6c7b1a41ef",
   "metadata": {
    "slideshow": {
     "slide_type": "slide"
    }
   },
   "outputs": [
    {
     "data": {
      "image/png": "[encoded data removed]",
      "text/plain": [
       "<Figure size 640x480 with 1 Axes>"
      ]
     },
     "metadata": {},
     "output_type": "display_data"
    }
   ],
   "source": [
    "# Plot a geodesic\n",
    "ts = np.linspace(0, 2.5)\n",
    "alpha = np.pi/3\n",
    "xs, ys = geod(0, 0, alpha, ts)\n",
    "plt.plot(xs, ys, 'r')\n",
    "\n",
    "# Plot the wave speed\n",
    "xmin, xmax = np.min(xs) - 1, np.max(xs) + 1\n",
    "ymin, ymax = 0, np.max(ys) + 1\n",
    "xs = np.linspace(xmin, xmax)\n",
    "ys = np.linspace(ymin, ymax)\n",
    "Xs, Ys = np.meshgrid(xs, ys)\n",
    "plt.contourf(Xs, Ys, c(Xs, Ys), 100, cmap='Blues')\n",
    "ax = plt.gca()\n",
    "ax.set_aspect(1)\n",
    "ax.invert_yaxis() # Invert the y axis as we think x1 (i.e. y) coordinate as depth"
   ]
  },
  {
   "cell_type": "code",
   "execution_count": 99,
   "id": "abd28602-689a-4d3f-a42b-92b7d5fa4553",
   "metadata": {
    "slideshow": {
     "slide_type": "slide"
    }
   },
   "outputs": [
    {
     "data": {
      "image/png": "[encoded data removed]",
      "text/plain": [
       "<Figure size 640x480 with 1 Axes>"
      ]
     },
     "metadata": {},
     "output_type": "display_data"
    }
   ],
   "source": [
    "# The geodesic looks like an arc of a circle\n",
    "ts = np.linspace(0, 2, 500) \n",
    "xs, ys = geod(0, 0, alpha, ts)\n",
    "plt.plot(xs, ys, 'r')\n",
    "\n",
    "thetas = np.linspace(0, 2*np.pi) \n",
    "r = np.sqrt(1 + np.tan(alpha)**2)\n",
    "plt.plot(r*np.cos(thetas) + np.tan(alpha), r*np.sin(thetas)-1, 'b:')\n",
    "plt.gca().set_aspect(1)"
   ]
  },
  {
   "cell_type": "markdown",
   "id": "dac32542-4333-4e2d-be21-7631d7d90b84",
   "metadata": {
    "slideshow": {
     "slide_type": "slide"
    }
   },
   "source": [
    "It is a classical homework problem in [calculus of variations](https://en.wikipedia.org/wiki/Calculus_of_variations) to show that the geodesics corresponding to the wave speed $c(x^0, x^1) = 1 + x^1$ are arcs of circles. Here is a formulation of the problem using a different physical motivation. You can try to solve it if you are familiar with calculus of variations.\n",
    "\n",
    "Light travels in a medium in which the speed of light $c(x,y)$ is a function of\n",
    "position. [Fermat's principle](https://en.wikipedia.org/wiki/Fermat's_principle) states that the time required for light to travel between two points is the minimum relative to all possible paths connecting the two points.\n",
    "\n",
    "(a) Show that the time for the light to travel from point $(x_1,y_1)$ to $(x_2, y_2)$ along the path $y(x)$ is\n",
    "\n",
    "$$\n",
    "T= \\int_{x_1}^{x_2} \\frac{\\sqrt{1+(y')^2}}{c(x,y)} d x.\n",
    "$$\n",
    "\n",
    "(b) If light is emitted from the origin making an angle $0 < \\alpha < \n",
    "\\pi/2$ with the positive $x$-axis in a medium in which $c(x,y)=1+y$, show that the light travels in a circle with centre $(x,y)=(\\tan \\alpha,-1)$. Hint use the [Beltrami identity](https://en.wikipedia.org/wiki/Beltrami_identity)."
   ]
  },
  {
   "cell_type": "markdown",
   "id": "272bd369",
   "metadata": {},
   "source": [
    "## Example: simple pendulum\n",
    "\n",
    "Simple pendulum (without friction and air resistance) can be modelled as a second order ODE:\n",
    "$$ \\theta'' = \\frac{d^2 \\theta}{dt^2} = -g \\sin(\\theta),$$\n",
    "where the angle $\\theta$ is measured from the negative vertical axis and $g$ is the constant gravitational acceleration. The initial conditions are the initial angle $\\theta(0) = \\theta_0$ and speed $\\theta'(0) = v_0$.\n",
    "\n",
    "We can rewrite this as a system of 1st order ODEs:\n",
    "$$ y(t) = \\begin{pmatrix}\n",
    "y_1(t) \\\\\n",
    "y_2(t)\n",
    "\\end{pmatrix}, \\ f(t,y) = \\begin{pmatrix}\n",
    "y_2 \\\\\n",
    "-g \\sin(y_1)\n",
    "\\end{pmatrix}.$$"
   ]
  },
  {
   "cell_type": "code",
   "execution_count": 54,
   "id": "6082eba2",
   "metadata": {},
   "outputs": [],
   "source": [
    "g = 9.81\n",
    "theta0 = np.deg2rad(30)\n",
    "v0 = 0\n",
    "\n",
    "def f(y):\n",
    "    return np.array([y[1], -g*np.sin(y[0])])\n",
    "\n",
    "N = 1000\n",
    "ys = np.zeros((N,2))\n",
    "h = 0.01\n",
    "\n",
    "# Initial condition\n",
    "ys[0,0] = theta0\n",
    "ys[0,1] = v0\n",
    "\n",
    "# Euler's method\n",
    "for n in range(1,N):\n",
    "    ys[n] = ys[n-1] + h*f(ys[n-1])"
   ]
  },
  {
   "cell_type": "code",
   "execution_count": 64,
   "id": "488e2a3d",
   "metadata": {},
   "outputs": [
    {
     "data": {
      "text/plain": [
       "<matplotlib.collections.LineCollection at 0x7fbecad3e450>"
      ]
     },
     "execution_count": 64,
     "metadata": {},
     "output_type": "execute_result"
    },
    {
     "data": {
      "image/png": "[encoded data removed]",
      "text/plain": [
       "<Figure size 640x480 with 1 Axes>"
      ]
     },
     "metadata": {},
     "output_type": "display_data"
    }
   ],
   "source": [
    "import matplotlib.pyplot as plt\n",
    "from matplotlib.collections import LineCollection\n",
    "\n",
    "L = 1 # Length of pendulum\n",
    "X = L*np.sin(ys[:,0])\n",
    "Y = L*(1 - np.cos(ys[:,0]))\n",
    "XY = np.stack([X,Y], axis=1)\n",
    "\n",
    "fig, ax = plt.subplots()\n",
    "cm = plt.get_cmap('jet')\n",
    "\n",
    "segs = [[XY[i], XY[i+1]] for i in range(N-1)]\n",
    "line_segments = LineCollection(segs, array=range(N), linewidths=np.linspace(3,0.5,N), linestyles='dashed', cmap=cm)\n",
    "\n",
    "ax.set_xlim(np.min(X)-0.1, np.max(X)+0.1)\n",
    "ax.set_ylim(-0.1, np.max(Y)+0.1)\n",
    "ax.add_collection(line_segments);\n"
   ]
  },
  {
   "cell_type": "markdown",
   "id": "d6d968f0-0c17-4402-87de-6f85165a7d70",
   "metadata": {
    "slideshow": {
     "slide_type": "slide"
    }
   },
   "source": [
    "# Solving differential equations with SciPy\n",
    "\n",
    "Function [solve_ivp](https://docs.scipy.org/doc/scipy/reference/generated/scipy.integrate.solve_ivp.html) can be used to solve systems of differential equations, see the [introduction](https://docs.scipy.org/doc/scipy/tutorial/integrate.html#ordinary-differential-equations-solve-ivp). The `method` parameter of this function can be used to choose an explicit Runge-Kutta method `RK23`, `RK45`, or `DOP853` (these type of methods are discussed in Section 12.5 of [the book](#thebook)), an implicit multistep method `BDF` (see Section 12.11), and an  implicit Runge-Kutta method `Radau` (see Section 12.12). Finally, the method `LSODA` is a wrapper of a solver from [ODEPACK](https://computing.llnl.gov/projects/odepack) with automatic stiffness detection."
   ]
  },
  {
   "cell_type": "code",
   "execution_count": null,
   "id": "5d3e3602-8326-4754-8c43-da6c0f2437ed",
   "metadata": {
    "slideshow": {
     "slide_type": "slide"
    }
   },
   "outputs": [],
   "source": []
  }
 ],
 "metadata": {
  "celltoolbar": "Slideshow",
  "kernelspec": {
   "display_name": "Python 3 (ipykernel)",
   "language": "python",
   "name": "python3"
  },
  "language_info": {
   "codemirror_mode": {
    "name": "ipython",
    "version": 3
   },
   "file_extension": ".py",
   "mimetype": "text/x-python",
   "name": "python",
   "nbconvert_exporter": "python",
   "pygments_lexer": "ipython3",
   "version": "3.12.0"
  },
  "vscode": {
   "interpreter": {
    "hash": "c8756df47763816d6300c4662f6feb03c22f6141c683808b625b74659b62406d"
   }
  }
 },
 "nbformat": 4,
 "nbformat_minor": 5
}
