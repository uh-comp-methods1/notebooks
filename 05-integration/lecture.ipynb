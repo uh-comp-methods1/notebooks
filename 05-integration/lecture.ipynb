{
 "cells": [
  {
   "cell_type": "markdown",
   "id": "8bcd23fd-0891-4aaf-9892-5c86fc238db7",
   "metadata": {
    "slideshow": {
     "slide_type": "slide"
    }
   },
   "source": [
    "# Numerical integration: introduction\n",
    "\n",
    "This notebook is based on Chapters 7 and 10 of \n",
    "\n",
    "<a id=\"thebook\"></a>\n",
    "> Süli, Endre and Mayers, David F. _An introduction to numerical analysis_. Cambridge University Press, Cambridge, 2003.\n",
    "<https://doi.org/10.1017/CBO9780511801181> (ebook in [Helka](https://helka.helsinki.fi/permalink/358UOH_INST/1h3k2rg/alma9926836783506253))\n",
    "\n",
    "We know how to evaluate some simple integrals of elementary functions by pen and paper but, in general, symbolic evaluation of integrals is a complicated problem, see for example the Wikipedia article of on the [Risch algorithm](https://en.wikipedia.org/wiki/Risch_algorithm). Here we consider numerical evaluation of integrals, a much simpler problem."
   ]
  },
  {
   "cell_type": "code",
   "execution_count": null,
   "id": "a87347ef-ee2b-4af9-b48c-2ca726eb4157",
   "metadata": {
    "slideshow": {
     "slide_type": "slide"
    }
   },
   "outputs": [],
   "source": [
    "import sympy as sp\n",
    "from sympy.abc import x\n",
    "from IPython.display import Math\n",
    "\n",
    "def display_risch(f):\n",
    "    int_tex = r'\\int ' + sp.latex(f)  + ' dx'\n",
    "    F = sp.integrate(f, x, risch=True)\n",
    "    if not isinstance(F, sp.integrals.Integral):\n",
    "        # The integral is elementary and we display the antiderivative\n",
    "        display(Math(int_tex + '=' + sp.latex(F)))\n",
    "    elif isinstance(F, sp.integrals.risch.NonElementaryIntegral):\n",
    "        # The integral is proven to be nonelementary by the algorithm, \n",
    "        # meaning the integral cannot be represented using a combination of \n",
    "        # exponentials, logarithms, trig functions, powers, rational functions, \n",
    "        # algebraic functions, and function composition\n",
    "        display(Math(int_tex + r'\\,\\text{ is not an elementary function}'))\n",
    "    else:\n",
    "        # The version implemented in SymPy only supports a small subset of \n",
    "        # the full Risch algorithm, no conclusion can be drawn from this case\n",
    "        display(Math(int_tex + r'\\,\\text{ can not be handled by the algorithm}'))"
   ]
  },
  {
   "cell_type": "code",
   "execution_count": null,
   "id": "f08d7be1-7215-4363-b491-5bbb6fd37632",
   "metadata": {
    "slideshow": {
     "slide_type": "slide"
    }
   },
   "outputs": [],
   "source": [
    "# Example from pp. 82-84 (Examples 2 and 3) of\n",
    "#   Grozin, A. Introduction to Mathematica for Physicists. Springer, 2014.\n",
    "# shows that a small change in the integrand makes it impossible to express \n",
    "# an integral by using elementary functions      \n",
    "display_risch(sp.log(x)/x)\n",
    "display_risch(sp.log(x)/(x + 1))\n",
    "# Example in the Wikipedia article on the Risch algorithm\n",
    "display_risch(x / sp.sqrt(x**4 + 10*x**2 - 96*x - 72))"
   ]
  },
  {
   "cell_type": "markdown",
   "id": "79ef60c7-e915-4837-9e43-9ca13a141013",
   "metadata": {
    "slideshow": {
     "slide_type": "slide"
    }
   },
   "source": [
    "# Newton-Cotes formulae\n",
    "\n",
    "The _Newton-Cotes formula_ of order $n = 1, 2, \\dots$ is obtained by letting $p \\in \\mathbb P_n$ be the Lagrange interpolation polynomial of a function $f$ at $a = x_0 < x_1 < \\dots < x_n = b$ on an interval $[a,b]$, and approximating\n",
    "\n",
    "$$\n",
    "\\int_a^b f(x) dx \\approx \\int_a^b p(x) dx.\n",
    "$$\n",
    "\n",
    "Recall that \n",
    "\n",
    "$$\n",
    "p(x) = \\sum_{k=0}^n f(x_k) L_k(x),\n",
    "$$\n",
    "\n",
    "where $L_k \\in \\mathbb P_n$ are the polynomials satisfying $L_k(x_i) = \\delta_{ki}$.\n",
    "Hence\n",
    "\n",
    "$$\n",
    "\\int_a^b p(x) dx = \\sum_{k=0}^n w_k f(x_k), \\qquad w_k = \\int_a^b L_k(x) dx.\n",
    "$$"
   ]
  },
  {
   "cell_type": "code",
   "execution_count": null,
   "id": "f46d7fc0-688d-4df3-842a-5b5a2e49bcd1",
   "metadata": {
    "slideshow": {
     "slide_type": "slide"
    }
   },
   "outputs": [],
   "source": [
    "import numpy as np\n",
    "import scipy.interpolate as interp\n",
    "\n",
    "def nc_weights_demo(a, b, n):\n",
    "    '''Compute the quadrature weights for Newton-Cotes formula of order n on [a, b]'''\n",
    "    N = n+1\n",
    "    xs = np.linspace(a, b, N) # uniform grid \n",
    "    ws = np.zeros(N)\n",
    "    for k in range(N):\n",
    "        ys = np.zeros(N)\n",
    "        ys[k] = 1\n",
    "        l = interp.lagrange(xs, ys) # L_k\n",
    "        L = np.polyint(l)\n",
    "        ws[k] = L(b) - L(a)\n",
    "    return ws, xs\n",
    "\n",
    "def integrate(ws, xs, f):\n",
    "    '''Integrate f using the quadrature weights ws and points xs'''\n",
    "    return np.sum(ws * f(xs))"
   ]
  },
  {
   "cell_type": "code",
   "execution_count": null,
   "id": "6a70690e-40a4-41b4-802f-1f9d25376800",
   "metadata": {
    "slideshow": {
     "slide_type": "slide"
    }
   },
   "outputs": [],
   "source": [
    "a, b = 0, 1\n",
    "def test_integrate(ws, xs, expr):\n",
    "    # Convert a symbolic expression with x as a free variable to a function \n",
    "    f = sp.lambdify(x, expr) \n",
    "    display(Math(r'\\text{' + \n",
    "        f'Integrate gives {integrate(ws, xs, f):.2f} ' \n",
    "        r' for }\\int' + f'_{a}^{b}' + sp.latex(expr)  + \n",
    "        f' dx = {sp.integrate(expr, (x, a, b))}')) \n",
    "\n",
    "n = 1\n",
    "ws_demo, xs = nc_weights_demo(a, b, n)\n",
    "test_integrate(ws_demo, xs, 1)\n",
    "test_integrate(ws_demo, xs, x)\n",
    "test_integrate(ws_demo, xs, x**2)"
   ]
  },
  {
   "cell_type": "code",
   "execution_count": null,
   "id": "2bce48b1-18a2-4e16-8d2e-5f49c0ad306d",
   "metadata": {
    "slideshow": {
     "slide_type": "slide"
    }
   },
   "outputs": [],
   "source": [
    "n = 2\n",
    "ws_demo, xs = nc_weights_demo(a, b, n)\n",
    "fs = [x**n for n in range(5)]\n",
    "for f in fs:\n",
    "    test_integrate(ws_demo, xs, f)\n",
    "\n",
    "from scipy import integrate as integ\n",
    "ws_scipy, _ = integ.newton_cotes(n, equal=1)\n",
    "ws_scipy *= (b-a)/n\n",
    "print('Using SciPy')\n",
    "test_integrate(ws_scipy, xs, fs[-1])"
   ]
  },
  {
   "attachments": {},
   "cell_type": "markdown",
   "id": "b04f9399-ade7-424a-b1d1-fe5fb4778661",
   "metadata": {
    "slideshow": {
     "slide_type": "slide"
    },
    "tags": []
   },
   "source": [
    "<div style=\"padding:25px; border: 2px solid gray;\">\n",
    "\n",
    "## Theorem: error in Newton-Cotes\n",
    "\n",
    "Let $n=1,2,\\dots$ and $f \\in C^{n+1}(a,b)$. Let $w_i, x_i$, $i=0,\\dots,n$, be the quadrature weights and points in the Newton-Cotes formula of order $n$ on $[a,b]$. Then\n",
    "\n",
    "\\begin{align*}\n",
    "&\\left|\\int_a^b f(x) dx - \\sum_{k=0}^n w_k f(x_k) \\right| \n",
    "\\\\&\\quad\\le \n",
    "\\frac{\\|f^{(n+1)}\\|_\\infty}{(n+1)!} \\int_a^b |x-x_0| \\times \\dots \\times |x-x_n| dx.\n",
    "\\end{align*}\n",
    "</div>\n",
    "\n",
    "For a proof, see Theorem 7.1 in [the book](#thebook). The Newton-Cotes formula of order $n$ is exact (that is, it gives the exactly correct integral) for polynomials of degree $n$. When $n$ is even and the grid is uniform, it is exact also for polynomials of degree $n+1$, leading to a better estimate than that in the theorem. For the sharp estimate in the case $n=2$, see Theorem 7.2 in [the book](#thebook)."
   ]
  },
  {
   "cell_type": "code",
   "execution_count": null,
   "id": "16425cf9-c040-475a-8d02-7366d5fbf4bd",
   "metadata": {
    "slideshow": {
     "slide_type": "slide"
    }
   },
   "outputs": [],
   "source": [
    "def nc_weights_sym(n):\n",
    "    '''Compute symbolically the weights for Newton-Cotes formula of order n'''\n",
    "    from sympy.abc import a, b, x\n",
    "    ws = []\n",
    "    h = (b - a)/n\n",
    "    xs = [sp.simplify(a + k*h) for k in range(n+1)]\n",
    "    for k in range(len(xs)):\n",
    "        L = 1\n",
    "        for i in range(len(xs)):\n",
    "            if i != k:\n",
    "                L *= (x - xs[i]) / (xs[k] -xs[i])\n",
    "        ws.append(sp.simplify(sp.integrate(L, (x, a, b))))\n",
    "    return ws, xs\n",
    "\n",
    "def nc_formula(n):\n",
    "    '''Compute symbolic expression for Newton-Cotes formula of order n'''\n",
    "    w, x = nc_weights_sym(n)\n",
    "    f = sp.Function('f')\n",
    "    nc_form = 0\n",
    "    for k in range(len(w)):\n",
    "        nc_form += w[k] * f(x[k])\n",
    "    return sp.simplify(nc_form)"
   ]
  },
  {
   "cell_type": "code",
   "execution_count": null,
   "id": "fef986c3-83e1-4eac-a312-412e0e740edd",
   "metadata": {
    "slideshow": {
     "slide_type": "slide"
    },
    "tags": []
   },
   "outputs": [],
   "source": [
    "print('Trapezium rule')\n",
    "display(Math(sp.latex(nc_formula(1))))\n",
    "print(\"Simpson's rule\")\n",
    "display(Math(sp.latex(nc_formula(2))))"
   ]
  },
  {
   "cell_type": "markdown",
   "id": "422f4069-56cf-4230-a9de-d96f1b3a4081",
   "metadata": {
    "slideshow": {
     "slide_type": "slide"
    },
    "tags": []
   },
   "source": [
    "Recall that the Lagrange interpolation polynomial of \n",
    "\n",
    "$$\n",
    "f(x) = \\frac{1}{1+x^2}\n",
    "$$\n",
    "\n",
    "gives a poor approximation of $f$ on $[-5, 5]$ due to the Runge phenomenon. \n",
    "\n",
    "Thus the Newton-Cotes formulae are expected to work poorly for \n",
    "\n",
    "$$\n",
    "\\int_{-5}^5 f(x) dx.\n",
    "$$"
   ]
  },
  {
   "cell_type": "code",
   "execution_count": null,
   "id": "85852bfa-f710-47f2-8598-279858cf5e1a",
   "metadata": {
    "slideshow": {
     "slide_type": "slide"
    },
    "tags": []
   },
   "outputs": [],
   "source": [
    "def f(x):\n",
    "    return 1 / (1 + x**2)\n",
    "ns = range(2, 13, 2)\n",
    "N = np.size(ns)\n",
    "data = np.zeros(N)\n",
    "for k in range(N):\n",
    "    ws, xs = nc_weights_demo(-5, 5, ns[k])\n",
    "    data[k] = integrate(ws, xs, f)\n",
    "\n",
    "import pandas as pd\n",
    "df = pd.DataFrame(data)\n",
    "df.columns = ['$I_n$']\n",
    "df.index = ns\n",
    "df.index.name = 'n'\n",
    "df.style.format('{:.5f}')"
   ]
  },
  {
   "cell_type": "markdown",
   "id": "e4f986bf-8969-4d66-a8b5-47b7cef1f403",
   "metadata": {
    "slideshow": {
     "slide_type": "slide"
    }
   },
   "source": [
    "# Composite formulae\n",
    "\n",
    "Analogously to splines, we will use a division to small subintervals.\n",
    "\n",
    "Let $a = x_0 < x_1 < \\dots < x_n = b$ be equally spaced\n",
    "and write $h = (b-a)/n$ for the spacing. For $f \\in C(a,b)$ there holds\n",
    "\n",
    "$$\n",
    "\\int_a^b f(x) dx = \\sum_{i=1}^n \\int_{x_{i-1}}^{x_i} f(x) dx.\n",
    "$$\n",
    "\n",
    "We approximate using the trapezium rule\n",
    "\n",
    "$$\n",
    "\\int_{x_{i-1}}^{x_i} f(x) dx \\approx \\frac{x_i - x_{i-1}}{2}(f(x_{i-1}) + f(x_i))\n",
    "= \n",
    "\\frac h 2 (f(x_{i-1}) + f(x_i)),\n",
    "$$\n",
    "\n",
    "and obtain the _composite trapezium rule_\n",
    "\n",
    "$$\n",
    "\\int_a^b f(x) dx \n",
    "\\approx \n",
    "h \\left( \\frac12 f(x_0) + f(x_1) + \\dots + f(x_{n-1}) + \\frac12 f(x_n) \\right).\n",
    "$$"
   ]
  },
  {
   "attachments": {},
   "cell_type": "markdown",
   "id": "78dc358e",
   "metadata": {
    "slideshow": {
     "slide_type": "slide"
    }
   },
   "source": [
    "<div style=\"padding:25px; border: 2px solid gray;\">\n",
    "\n",
    "## Theorem: error in composite trapezium rule\n",
    "Let $f \\in C^2(a,b)$ and write $I_h f$ for the composite trapezium rule applied to $f$ with the spacing $h>0$. Then there is $C>0$, independent of $f$ and $h$, such that\n",
    "\n",
    "$$\n",
    "\\left|\\int_a^b f dx - I_h f \\right| \\le C \\|(h\\partial)^2 f\\|_\\infty = C h^2 \\|f'' \\|_\\infty.\n",
    "$$\n",
    "</div>"
   ]
  },
  {
   "attachments": {},
   "cell_type": "markdown",
   "id": "2745e696-c465-493e-9ec7-7ea238f0c760",
   "metadata": {
    "slideshow": {
     "slide_type": "fragment"
    }
   },
   "source": [
    "_Proof_. By the error in Newton-Cotes theorem,  \n",
    "\n",
    "\\begin{align*}\n",
    "\\left| \\int_a^b f(x) dx - I_h f \\right| \n",
    "\\le \n",
    "\\sum_{i=1}^n \\left|\\int_{x_{i-1}}^{x_i} f(x) dx - \\frac h 2 (f(x_{i-1}) + f(x_i)) \\right|\n",
    "\\le n \\|f''\\|_\\infty h^3.\n",
    "\\end{align*}\n",
    "\n",
    "The claim follows from $h = (b-a)/n$.\n",
    "$\\blacksquare$"
   ]
  },
  {
   "cell_type": "markdown",
   "id": "382187f2",
   "metadata": {
    "tags": [
     "slide"
    ]
   },
   "source": [
    "## Example: Richardson extrapolation\n",
    "\n",
    "The error of the composite trapezium rule with $n$ intervals of length $h$ is\n",
    "$$\\Epsilon_1(f,n) = | I(f) - I_1(f,n) | \\leq C h^2 + \\mathcal{O}(h^3).$$\n",
    "\n",
    "The Richardson extrapolation $R_1(f,n)$ given by two trapezium quadratures of different resolutions gives improved rate:\n",
    "\\begin{align*}\n",
    "| I(f) - R_1(f,n) | &= \\big| I(f) - \\frac{1}{3} \\left( 4 I_1(f,2n) - I_1(f,2)  \\right) \\big| \\\\\n",
    "& \\leq C h^3 + \\mathcal{O}(h^4).\n",
    "\\end{align*}\n",
    "\n",
    "But $2n$ intervals would also allow the use of Simpson's rule, which should have an error\n",
    "$$ \\Epsilon_2(f,2n) \\leq \\frac{(b-a)^5}{2880 n^4} \\| f^{(4)} \\|_\\infty, $$\n",
    "i.e. (since $b-a = 2nh$)\n",
    "$$ \\Epsilon_2(f,2n) = C h^4 + \\mathcal{O}(h^5). $$\n",
    "\n",
    "Let's try this on\n",
    "$$ I(f) = \\int_0^{\\ln 2} 2e^{-x} dx \\quad (= 1) $$\n",
    "and plot the resulting errors.\n"
   ]
  },
  {
   "cell_type": "code",
   "execution_count": 2,
   "id": "e38c8b9a",
   "metadata": {},
   "outputs": [],
   "source": [
    "import numpy as np\n",
    "import matplotlib.pyplot as plt\n",
    "import scipy\n",
    "\n",
    "def f(x):\n",
    "    return 2*np.exp(-x)\n",
    "\n",
    "def richardson(y, x):\n",
    "    # Assume y = f(x) for 2n intervals\n",
    "    return 1/3*(4*np.trapz(y, x) - np.trapz(y[0::2], x[0::2]))\n",
    "\n",
    "a, b = 0, np.log(2)\n",
    "I = 1 # True value\n",
    "\n",
    "ns = 2*5**np.array(range(4)) # Even number of intervals only!\n",
    "eTrapz = np.zeros(len(ns))\n",
    "eRich = np.zeros(len(ns))\n",
    "eSimps = np.zeros(len(ns))\n",
    "\n",
    "for i, n in enumerate(ns):\n",
    "    x = np.linspace(a, b, n+1, endpoint=True)\n",
    "    y = f(x) # Evaluate on dense grid\n",
    "\n",
    "    eTrapz[i] = np.abs(I - np.trapz(y, x))\n",
    "    eRich[i] = np.abs(I - richardson(y, x))\n",
    "    eSimps[i] = np.abs(I - scipy.integrate.simpson(y, x))"
   ]
  },
  {
   "cell_type": "code",
   "execution_count": 53,
   "id": "0b552cac",
   "metadata": {},
   "outputs": [
    {
     "data": {
      "image/png": "[encoded data removed]",
      "text/plain": [
       "<Figure size 640x480 with 1 Axes>"
      ]
     },
     "metadata": {},
     "output_type": "display_data"
    }
   ],
   "source": [
    "# Logarithmic plots should reveal the exponents of the error decay\n",
    "plt.loglog(ns, eTrapz, 'b')\n",
    "plt.loglog(ns, eRich, 'r', lw=4)\n",
    "plt.loglog(ns, eSimps, 'k')\n",
    "\n",
    "hs = 1/ns\n",
    "# Multiplying by a constant shifts the h^k plots vertically\n",
    "plt.loglog(ns, 0.1*hs**2, ':b')\n",
    "plt.loglog(ns, 0.001*hs**3, ':r')\n",
    "plt.loglog(ns, 0.005*hs**4, ':k');"
   ]
  },
  {
   "cell_type": "markdown",
   "id": "fe074ca0",
   "metadata": {},
   "source": [
    "In this particular case we obtain as good of an approximation as with the Simpson's method. Remember that the error estimates are *worst case* estimates and often quite loose ones."
   ]
  },
  {
   "cell_type": "markdown",
   "id": "a7db4c22",
   "metadata": {
    "slideshow": {
     "slide_type": "slide"
    }
   },
   "source": [
    "# Gaussian quadrature\n",
    "\n",
    "The Gaussian quadrature is an approximation of the form \n",
    "\n",
    "\\begin{align*}\n",
    "\\int_a^b f(x) dx = \\sum_{k=0}^n w_k f(x_k)\n",
    "\\end{align*}\n",
    "\n",
    "where the quarature points $x_k \\in [a,b]$ and weights $w_k$ are chosen so that the formula is exact for polynomials up to degree $2n + 1$. \n",
    "\n",
    "In order to construct the points and weights we need to study Hermite interpolation that reads\n",
    "\n",
    "> Let $x_i, y_i, z_i \\in \\mathbb R$, $i=0,\\dots,n$, and suppose that $x_i \\ne x_j$ for $i \\ne j$.\n",
    ">\n",
    "> Find $p \\in \\mathbb P_{2n +1}$ such that $p(x_i) = y_i$ and $p'(x_i) = z_i$ for all $i=0,\\dots,n$."
   ]
  },
  {
   "attachments": {},
   "cell_type": "markdown",
   "id": "4c0051a1",
   "metadata": {
    "slideshow": {
     "slide_type": "slide"
    }
   },
   "source": [
    "<div style=\"padding:25px; border: 2px solid gray;\">\n",
    "\n",
    "## Theorem: Hermite interpolation\n",
    "Let $n \\ge 0$ be an integer let $x_i \\in \\mathbb R$, $i=0,\\dots,n$, be distinct. \n",
    "Then for any $y_i, z_i \\in \\mathbb R$, $i=0,\\dots,n$, there is a unique $p \\in \\mathbb P_{2n+1}$ \n",
    "such that $p(x_i) = y_i$ and $p'(x_i) = z_i$ for all $i=0,\\dots,n$. \n",
    "</div>\n",
    "\n",
    "For a proof, see Theorem 6.3 in [the book](#thebook)."
   ]
  },
  {
   "attachments": {},
   "cell_type": "markdown",
   "id": "caff1a9c",
   "metadata": {
    "slideshow": {
     "slide_type": "slide"
    }
   },
   "source": [
    "<div style=\"padding:25px; border: 2px solid gray;\">\n",
    "\n",
    "## Theorem: error in Hermite interpolation\n",
    "Let $x_0, \\dots x_n \\in [a,b]$ be distinct, let $f \\in C^{2n+2}(a,b)$, and \n",
    "let $p \\in \\mathbb P_{2n+1}$ be the Hermite interpolation polynomial of $f$, that is, \n",
    "\n",
    "\\begin{align*}\n",
    "p(x_i) = f(x_i), \\quad p'(x_i) = f'(x_i), \\qquad i=0,\\dots,n.\n",
    "\\end{align*}\n",
    "\n",
    "Then for all $x \\in [a,b]$ there is $\\xi \\in (a,b)$ such that \n",
    "\n",
    "\\begin{align*}\n",
    "f(x) - p(x) = \\frac{f^{(2n+2)}(\\xi)}{(2n+2)!} \\prod_{i=0}^n (x-x_i)^2.\n",
    "\\end{align*}\n",
    "</div>\n",
    "\n",
    "For a proof, see Theorem 6.4 in [the book](#thebook)."
   ]
  },
  {
   "cell_type": "markdown",
   "id": "f4ee4d8c",
   "metadata": {
    "slideshow": {
     "slide_type": "slide"
    }
   },
   "source": [
    "Let $f \\in C^{2n+2}(a,b)$, let \n",
    "\n",
    "\\begin{align*}\n",
    "p(x) = \\sum_{k=0}^n f(x_k) H_k(x) + \\sum_{k=0}^n f'(x_k) K_k(x)\n",
    "\\end{align*}\n",
    "\n",
    "be its Hermite interpolation polynomial, and consider the approximation \n",
    "\n",
    "\\begin{align*}\n",
    "\\int_a^b f(x) dx \\approx \\int_a^b p(x) dx = \\sum_{k=0}^n w_k f(x_k) + \\sum_{k=0}^n \\tilde w_k f'(x_k),\n",
    "\\end{align*}\n",
    "\n",
    "where\n",
    "\n",
    "\\begin{align*}\n",
    "w_k = \\int_a^b H_k(x) dx, \\quad \\tilde w_k = \\int_a^b K_k(x) dx.\n",
    "\\end{align*}\n",
    "\n",
    "The idea of the Gaussian quadrature is to choose the points $x_k$ so that $\\tilde w_k = 0$ for all $k=0,\\dots,n.$"
   ]
  },
  {
   "cell_type": "markdown",
   "id": "ceaad865",
   "metadata": {
    "slideshow": {
     "slide_type": "slide"
    }
   },
   "source": [
    "Using \n",
    "\n",
    "\\begin{align*}\n",
    "K_k(x) = L_k^2(x) (x - x_k), \\quad L_k(x) = \\prod_{i=0, i \\ne k}^n \\frac{x-x_i}{x_k-x_i}, \\qquad k=0,\\dots,n,\n",
    "\\end{align*}\n",
    "\n",
    "we have\n",
    "\n",
    "\\begin{align*}\n",
    "\\tilde w_k = \\int_a^b K_k(x) dx = c_n \\int_a^b L_k(x) \\pi(x) dx,\n",
    "\\end{align*}\n",
    "\n",
    "where\n",
    "\n",
    "\\begin{align*}\n",
    "\\pi(x) = \\prod_{i=0}^n (x-x_i),\\quad c_n = \\prod_{i=0, i \\ne k}^n \\frac{1}{x_k-x_i}.\n",
    "\\end{align*}\n",
    "\n",
    "(In the case $n=0$, the formula holds with $c_n = 1$.) We see that $\\tilde w_k = 0$ if $\\pi \\in \\mathbb P_{n+1}$ is orthogonal to all polynomials in $\\mathbb P_{n}$ in the sense of $L^2(a,b)$."
   ]
  },
  {
   "cell_type": "markdown",
   "id": "7928afb1",
   "metadata": {
    "slideshow": {
     "slide_type": "slide"
    }
   },
   "source": [
    "In the case that $a=-1$ and $b=1$, the [Legendre polynomials](https://en.wikipedia.org/wiki/Legendre_polynomials) $P_n \\in \\mathbb P_n$, $n=0,1,\\dots$, are orthogonal with respect to the inner product $L^2(a,b)$. The points $x_i$, $i=0,\\dots,n$ are chosen as the roots of $P_{n+1}$."
   ]
  },
  {
   "cell_type": "code",
   "execution_count": 3,
   "id": "abf26ad3",
   "metadata": {},
   "outputs": [
    {
     "data": {
      "image/png": "[encoded data removed]",
      "text/plain": [
       "<Figure size 640x480 with 1 Axes>"
      ]
     },
     "metadata": {},
     "output_type": "display_data"
    }
   ],
   "source": [
    "from numpy.polynomial import legendre as leg\n",
    "from matplotlib import pyplot as plt\n",
    "\n",
    "xs_plot = np.linspace(-1,1)\n",
    "for n in range(1, 4):\n",
    "    cs = np.zeros(n + 2)\n",
    "    cs[-1] = 1\n",
    "    plt.plot(xs_plot, leg.legval(xs_plot, cs), label=f'$P_{n+1}$')\n",
    "    roots = leg.legroots(cs)\n",
    "    plt.scatter(roots, np.zeros(len(roots)))\n",
    "plt.legend();"
   ]
  },
  {
   "cell_type": "markdown",
   "id": "468f28b6",
   "metadata": {
    "slideshow": {
     "slide_type": "slide"
    }
   },
   "source": [
    "The case of arbitrary $a < b$ can be reduced to the case $a = -1$ and $b = 1$ by the change of variable\n",
    "\n",
    "\\begin{align*}\n",
    "y = \\frac{b - a} 2 x + \\frac{a + b}2.\n",
    "\\end{align*}\n",
    "\n",
    "Note that $x=-1$ corresponds to $y = a$ and $x = 1$ to $y = b$. Hence\n",
    "\n",
    "\\begin{align*}\n",
    "\\int_a^b f(y) dy \n",
    "&= \\frac{b - a} 2 \\int_{-1}^1 f(\\frac{b - a} 2 x + \\frac{a + b}2) dx\n",
    "\\\\&\\approx \\sum_{k=0}^n \\frac{b - a} 2 w_k f(\\frac{b - a} 2 x_k + \\frac{a + b}2),\n",
    "\\end{align*}\n",
    "\n",
    "where $w_k$ and $x_k$ are the quadrature weights and points on $[-1,1]$."
   ]
  },
  {
   "cell_type": "code",
   "execution_count": null,
   "id": "95267cc3",
   "metadata": {
    "slideshow": {
     "slide_type": "slide"
    }
   },
   "outputs": [],
   "source": [
    "def change_of_interval(x, a, b):\n",
    "    return (b - a)/2 * x + (a + b)/2\n",
    "\n",
    "a, b = 0, 1\n",
    "n = 1\n",
    "\n",
    "xs, ws = leg.leggauss(n + 1)\n",
    "ys = change_of_interval(xs, a, b)\n",
    "ws *= (b - a) / 2\n",
    "\n",
    "fs = [x**n for n in range(5)]\n",
    "for f in fs:\n",
    "    test_integrate(ws, ys, f)"
   ]
  },
  {
   "attachments": {},
   "cell_type": "markdown",
   "id": "b21877e2",
   "metadata": {
    "slideshow": {
     "slide_type": "slide"
    }
   },
   "source": [
    "<div style=\"padding:25px; border: 2px solid gray;\">\n",
    "\n",
    "## Theorem: error in Gaussian quadrature\n",
    "\n",
    "Let $n=1,2,\\dots$ and $f \\in C^{2n+2}(a,b)$. \n",
    "Let $w_i, x_i$, $i=0,\\dots,n$, be the quadrature weights and points in the Gaussian quadrature of order $n$ on $[a,b]$. Then\n",
    "\n",
    "\\begin{align*}\n",
    "&\\left|\\int_a^b f(x) dx - \\sum_{k=0}^n w_k f(x_k) \\right| \n",
    "\\\\&\\quad\\le \n",
    "\\frac{\\|f^{(2n+2)}\\|_\\infty}{(2n+2)!} \\int_a^b (x-x_0)^2\\dots(x-x_n)^2 dx.\n",
    "\\end{align*}\n",
    "</div>"
   ]
  },
  {
   "cell_type": "markdown",
   "id": "45c66333",
   "metadata": {
    "slideshow": {
     "slide_type": "slide"
    }
   },
   "source": [
    "# On the integration sub-package of SciPy\n",
    "\n",
    "The composite formulae are well-suited for approximation of integrals when the integrand is known only at some points $x_i$, $i=0,\\dots,n$. The composite trapezium rule is implemented by [trapezoid](https://docs.scipy.org/doc/scipy/reference/generated/scipy.integrate.trapezoid.html) and its second order analogue, the composite Simpson's rule, by [simpson](https://docs.scipy.org/doc/scipy/reference/generated/scipy.integrate.simpson.html#scipy.integrate.simpson).\n",
    "\n",
    "For highly regular grids $x_i$, $i=0,\\dots,n$, there are methods that outperform the composite rules. If the samples are equally-spaced and the number of samples is $2^k + 1$ for some integer $k=1,2,\\dots$, then Romberg integration (which is based on Richardson extrapolation) [romb](https://docs.scipy.org/doc/scipy/reference/generated/scipy.integrate.romb.html#scipy.integrate.romb) can be used to obtain high-precision estimates of the integral using the available samples. This method is described in Section 7.7 of [the book](#thebook)."
   ]
  },
  {
   "cell_type": "markdown",
   "id": "9347ffef-8d12-4c5c-a275-d63a40d60200",
   "metadata": {
    "slideshow": {
     "slide_type": "slide"
    }
   },
   "source": [
    "If the integrand can be evaluated at any point on the region of integration, then [quad](https://docs.scipy.org/doc/scipy/reference/generated/scipy.integrate.quad.html) can be used. This calls the Fortran library [QUADPACK](https://en.wikipedia.org/wiki/QUADPACK). The main focus of this library is on automatic integration in which the algorithm attempts to perform an integration with an error no larger than that requested. The library uses an [adaptive quadrature](https://en.wikipedia.org/wiki/Adaptive_quadrature) that divides the region of integration into adaptively refined subintervals. Generally, adaptive algorithms are just as efficient as composite rules for smooth integrands, but they may work for non-smooth integrands for which traditional algorithms may fail. \n",
    "\n",
    "For more details on integration with SciPy see the [tutorial](https://docs.scipy.org/doc/scipy/tutorial/integrate.html)."
   ]
  },
  {
   "cell_type": "code",
   "execution_count": null,
   "id": "03ea89f9-20fb-43cc-bb7b-bef1bd7ee6b1",
   "metadata": {
    "slideshow": {
     "slide_type": "slide"
    }
   },
   "outputs": [],
   "source": [
    "import scipy.integrate as integ\n",
    "def f(x):\n",
    "    return np.log(x)/(x+1)\n",
    "a, b = 1, 2\n",
    "\n",
    "xs = np.linspace(a, b)\n",
    "ys = f(xs)\n",
    "print(f'trapezoid gives {integ.trapezoid(ys, xs)}')\n",
    "print(f'simpson gives   {integ.simpson(ys, xs)}')\n",
    "\n",
    "xs, dx = np.linspace(a, b, 33, retstep=True)\n",
    "ys = f(xs)\n",
    "print(f'romb gives      {integ.romb(ys, dx)}')\n",
    "\n",
    "# quad returns also an estimate of the absolute error in the result\n",
    "print(f'quad gives     {integ.quad(f, a, b)}')"
   ]
  },
  {
   "cell_type": "code",
   "execution_count": null,
   "id": "2dbd1252-8d0b-4649-86e3-a431e33b4a86",
   "metadata": {
    "slideshow": {
     "slide_type": "slide"
    }
   },
   "outputs": [],
   "source": [
    "def f(x):\n",
    "    return 1/np.sqrt(x)\n",
    "a, b = np.finfo(float).eps, 1\n",
    "\n",
    "xs = np.linspace(a, b)\n",
    "ys = f(xs)\n",
    "print(f'trapezoid gives {integ.trapezoid(ys, xs)}')\n",
    "print(f'simpson gives   {integ.simpson(ys, xs)}')\n",
    "\n",
    "xs, dx = np.linspace(a, b, 33, retstep=True)\n",
    "ys = f(xs)\n",
    "print(f'romb gives      {integ.romb(ys, dx)}')\n",
    "\n",
    "print(f'quad gives     {integ.quad(f, a, b)}')\n",
    "\n",
    "print(f'correct value   2 (up to machine precision)')"
   ]
  },
  {
   "cell_type": "code",
   "execution_count": null,
   "id": "0f1adae3-5e4e-4df8-b9bf-69974547ca7d",
   "metadata": {
    "slideshow": {
     "slide_type": "slide"
    }
   },
   "outputs": [],
   "source": []
  }
 ],
 "metadata": {
  "celltoolbar": "Slideshow",
  "kernelspec": {
   "display_name": "Python 3",
   "language": "python",
   "name": "python3"
  },
  "language_info": {
   "codemirror_mode": {
    "name": "ipython",
    "version": 3
   },
   "file_extension": ".py",
   "mimetype": "text/x-python",
   "name": "python",
   "nbconvert_exporter": "python",
   "pygments_lexer": "ipython3",
   "version": "3.12.0"
  },
  "toc-autonumbering": true
 },
 "nbformat": 4,
 "nbformat_minor": 5
}
