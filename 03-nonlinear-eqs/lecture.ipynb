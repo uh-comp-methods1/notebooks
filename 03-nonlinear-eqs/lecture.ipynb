{
 "cells": [
  {
   "attachments": {},
   "cell_type": "markdown",
   "id": "820907bf-c061-459f-9274-19ff269d46d0",
   "metadata": {
    "slideshow": {
     "slide_type": "slide"
    },
    "tags": []
   },
   "source": [
    "# Non-linear equations: introduction\n",
    "\n",
    "This notebook is based on Chapter 1 of \n",
    "\n",
    "<a id='thebook'></a>\n",
    "\n",
    "> Süli, Endre and Mayers, David F. _An introduction to numerical analysis_. Cambridge University Press, Cambridge, 2003. <https://doi.org/10.1017/CBO9780511801181> (ebook in [Helka](https://helka.helsinki.fi/permalink/358UOH_INST/1h3k2rg/alma9926836783506253)) \n",
    "\n",
    "In addition, some examples are taken from Chapters 1 and 2 of \n",
    "\n",
    "> Scott, L. Ridgway. _Numerical analysis_. Princeton University Press, Princeton, NJ, 2011."
   ]
  },
  {
   "cell_type": "markdown",
   "id": "91978082-f550-4b4e-9d84-b327fb09b6ca",
   "metadata": {
    "slideshow": {
     "slide_type": "slide"
    },
    "tags": []
   },
   "source": [
    "The equation $x^2 = 2$ has two solutions $x = \\pm \\sqrt{2}$, but how do we compute an approximation to $\\sqrt{2}$ as a floating-point number?\n",
    "\n",
    "This problem has a long tradition, see the Babylonian clay tablet [YBC 7289](https://en.wikipedia.org/wiki/YBC_7289). \n",
    "Perhaps the first algorithm used for approximating $\\sqrt{q}$, with $q > 0$, is the [Babylonian method](https://en.wikipedia.org/wiki/Methods_of_computing_square_roots#Babylonian_method):\n",
    "\n",
    "1. Start with an initial guess $x_0$\n",
    "2. Set \n",
    "$$\n",
    "x_{n+1} = \\frac 1 2 (x_n + \\frac q {x_n})\n",
    "$$\n",
    "3. Repeat step 2 until the desired accuracy is achieved"
   ]
  },
  {
   "cell_type": "code",
   "execution_count": null,
   "id": "8a3a2968",
   "metadata": {
    "slideshow": {
     "slide_type": "-"
    },
    "tags": []
   },
   "outputs": [],
   "source": [
    "def babylonian_method(x, q):\n",
    "    return 0.5*(x + q/x)"
   ]
  },
  {
   "cell_type": "code",
   "execution_count": null,
   "id": "ea68fc41-cb7e-45d9-9579-54dd8bb6e419",
   "metadata": {
    "slideshow": {
     "slide_type": "slide"
    },
    "tags": []
   },
   "outputs": [],
   "source": [
    "import numpy as np\n",
    "max_steps = 5\n",
    "xs = np.zeros(max_steps)\n",
    "x = 1.5\n",
    "for n in range(max_steps):\n",
    "    x = babylonian_method(x, 2)\n",
    "    xs[n] = x\n",
    "xs"
   ]
  },
  {
   "cell_type": "code",
   "execution_count": null,
   "id": "b5d92dab-8368-432f-9382-800ce9337b12",
   "metadata": {
    "slideshow": {
     "slide_type": "slide"
    },
    "tags": []
   },
   "outputs": [],
   "source": [
    "xtrue = np.sqrt(2)\n",
    "errs = np.abs(xs - xtrue)\n",
    "\n",
    "import pandas as pd\n",
    "df = pd.DataFrame({\n",
    "    'x': xs, \n",
    "    'error': errs, \n",
    "    })\n",
    "df.index = range(1, max_steps+1)\n",
    "df.index.name = 'n'\n",
    "df.style.format({'error': '{:.1e}'})"
   ]
  },
  {
   "cell_type": "markdown",
   "id": "8766e3bf-802e-4d3f-88c3-cc1f16842923",
   "metadata": {
    "slideshow": {
     "slide_type": "slide"
    },
    "tags": []
   },
   "source": [
    "# Fixed-point iteration\n",
    "\n",
    "The Babylonian method is a fixed point iteration of the form\n",
    "\n",
    "$$\n",
    "x_{n+1} = f(x_n), \\qquad n=0,1,\\dots\n",
    "$$\n",
    "\n",
    "If the sequence $x_n$ converges to a point $\\xi$ and $f$ is continuous, then $\\xi$ is a fixed point of $f$, that is, $\\xi = f(\\xi)$. Indeed \n",
    "\n",
    "$$\n",
    "\\xi = \\lim_{n \\to \\infty} x_{n+1} = \\lim_{n \\to \\infty} f(x_n) = f(\\xi).\n",
    "$$\n",
    "\n",
    "Note that while the Gaussian elimination terminates after a finite number of steps, a fixed point iteration may require infinite number of steps to converge."
   ]
  },
  {
   "cell_type": "markdown",
   "id": "6aeb8514-d166-4436-863e-c088d8372d39",
   "metadata": {
    "slideshow": {
     "slide_type": "slide"
    },
    "tags": []
   },
   "source": [
    "In the case of the Babylonian method\n",
    "\n",
    "$$\n",
    "f(x) = \\frac 1 2 (x + \\frac q {x})\n",
    "$$\n",
    "\n",
    "and \n",
    "$$\n",
    "\\xi = f(\\xi)\n",
    "\\quad\\iff\\quad\n",
    "\\xi = \\frac q {\\xi}\n",
    "\\quad\\iff\\quad\n",
    "\\xi^2 = q\n",
    "\\quad\\iff\\quad\n",
    "\\xi = \\pm \\sqrt{q}.\n",
    "$$\n",
    "\n",
    "One may wonder if the simpler choice $f(x) = \\frac q {x}$ would work as well.\n",
    "After all $\\xi = f(\\xi)$ is equivalent to $\\xi = \\pm \\sqrt{q}$ also for this $f$."
   ]
  },
  {
   "cell_type": "code",
   "execution_count": null,
   "id": "faa62432-9781-46b5-a770-677b2dfda1f4",
   "metadata": {
    "slideshow": {
     "slide_type": "slide"
    },
    "tags": []
   },
   "outputs": [],
   "source": [
    "def non_method(x, q):\n",
    "    return q / x\n",
    "\n",
    "max_steps = 5\n",
    "xs = np.zeros(max_steps)\n",
    "x = 1.5 # initial guess \n",
    "for n in range(max_steps):\n",
    "    x = non_method(x, 2)\n",
    "    xs[n] = x\n",
    "xs"
   ]
  },
  {
   "attachments": {},
   "cell_type": "markdown",
   "id": "9d6c0107-9874-4927-9aeb-c1e8e217c836",
   "metadata": {
    "slideshow": {
     "slide_type": "slide"
    },
    "tags": []
   },
   "source": [
    "Consider a closed interval $I = [a,b]$ with $a < b$.\n",
    "A function $f : I \\to \\mathbb R$ is a _contraction_ if there is $0 < L < 1$ such that \n",
    "\n",
    "\\begin{equation}\\tag{1}\n",
    "|f(x) - f(y)| \\le L |x - y|, \\qquad x,y \\in I.\n",
    "\\end{equation}\n",
    "\n",
    "The [mean value theorem](https://en.wikipedia.org/wiki/Mean_value_theorem) implies that (1) holds with $L = \\max_{x \\in I} |f'(x)|$ whenever $f$ is differentiable.\n",
    "\n",
    "$L$ is also called the _Lipschitz constant_ of $f$ (on the interval $I$).\n",
    "\n",
    "<div style=\"padding:25px; border: 2px solid gray;\">\n",
    "\n",
    "## Theorem: Banach fixed-point\n",
    "\n",
    "Suppose that $f : I \\to I$ is a contraction. Then there is a unique fixed point $\\xi \\in I$ of $f$, and the sequence $x_{n+1} = f(x_{n})$ converges to $\\xi$ for any initial guess $x_0 \\in I$.\n",
    "</div>\n",
    "\n",
    "\n",
    "For a proof, see Theorem 1.3 of [the book](#thebook). "
   ]
  },
  {
   "attachments": {},
   "cell_type": "markdown",
   "id": "d78fab50-7619-4805-b4e8-51ca74386a8a",
   "metadata": {
    "slideshow": {
     "slide_type": "slide"
    },
    "tags": []
   },
   "source": [
    "<div style=\"padding:25px; border: 2px solid gray;\">\n",
    "\n",
    "## Theorem: local convergence\n",
    "\n",
    "Let $\\xi$ be a fixed point of $f : \\mathbb R \\to \\mathbb R$ and suppose that $f$ is continuously differentiable near $\\xi$. If $|f'(\\xi)| < 1$, then there is an open interval $I$ containing $\\xi$ such that the sequence $x_{n+1} = f(x_{n})$ converges to $\\xi$ for any initial guess $x_0 \\in I$.\n",
    "</div>"
   ]
  },
  {
   "cell_type": "markdown",
   "id": "376d7c5e-091f-442f-a2af-1b04d50f0494",
   "metadata": {
    "slideshow": {
     "slide_type": "subslide"
    },
    "tags": []
   },
   "source": [
    "_Proof_. The continuity of $f'$ near $\\xi$, together with $|f'(\\xi)| < 1$, implies that there are $\\epsilon > 0$ and $0 <\\delta < 1$ such that \n",
    "\n",
    "$$\n",
    "|f'(x)| \\le \\delta, \\qquad x \\in (\\xi - \\epsilon, \\xi + \\epsilon) =: I.\n",
    "$$\n",
    "\n",
    "The mean value theorem implies \n",
    "\n",
    "$$\n",
    "|f(x) - f(y)| \\le L |x - y|, \\qquad x,y \\in I,\n",
    "$$\n",
    "\n",
    "with $L = \\delta$. In particular, \n",
    "\n",
    "$$\n",
    "|f(x) - \\xi| = |f(x) - f(\\xi)| \\le \\delta |x - \\xi| < \\delta \\epsilon < \\epsilon, \\qquad x \\in I.\n",
    "$$\n",
    "\n",
    "Hence $f$ maps $I$ to itself and we can apply the Banach fixed-point theorem. $\\blacksquare$"
   ]
  },
  {
   "cell_type": "markdown",
   "id": "0cfeaad2-4a41-49e4-a784-27207e4e12c4",
   "metadata": {
    "slideshow": {
     "slide_type": "slide"
    },
    "tags": []
   },
   "source": [
    "In the case of the Babylonian method\n",
    "\n",
    "$$\n",
    "f(x) = \\frac 1 2 (x + \\frac q {x}) \n",
    "\\quad \\text{and} \\quad\n",
    "f'(x) = \\frac 1 2 (1 - \\frac q {x^2}).\n",
    "$$\n",
    "\n",
    "Thus $f'(\\xi) = 0$ at the fixed point $\\xi = \\sqrt{q}$,\n",
    "and the method converges locally (that is, for an initial guess near $\\xi$)."
   ]
  },
  {
   "cell_type": "code",
   "execution_count": null,
   "id": "dae6f06d",
   "metadata": {},
   "outputs": [],
   "source": [
    "# Poor initial guess\n",
    "max_steps = 15\n",
    "xs = np.zeros(max_steps)\n",
    "x = 0.01\n",
    "for n in range(max_steps):\n",
    "    x = babylonian_method(x, 2)\n",
    "    xs[n] = x\n",
    "xs"
   ]
  },
  {
   "cell_type": "markdown",
   "id": "bc373bcd",
   "metadata": {},
   "source": [
    "\n",
    "On the other hand, in the case of the \"non-method\"\n",
    "\n",
    "$$\n",
    "f(x) = \\frac q {x},\n",
    "\\quad \\text{and} \\quad\n",
    "f'(x) = - \\frac q {x^2}.\n",
    "$$\n",
    "\n",
    "Thus $f'(\\xi) = -1$ at $\\xi = \\sqrt{q}$,\n",
    "and $f$ is **not** a contraction on any open interval containing $\\xi$.\n"
   ]
  },
  {
   "attachments": {},
   "cell_type": "markdown",
   "id": "2ca4e3f3",
   "metadata": {
    "slideshow": {
     "slide_type": "slide"
    },
    "tags": []
   },
   "source": [
    "<div style=\"padding:25px; border: 2px solid gray;\">\n",
    "\n",
    "## Definition: order of convergence\n",
    "\n",
    "Suppose that a sequence $x_n$ converges to $\\xi$ in $\\mathbb R$.\n",
    "If there are $p > 1$ and $\\mu > 0$ such that \n",
    "\\begin{align}\n",
    "\\tag{1}\n",
    "\\lim_{n \\to \\infty} \\frac{|x_{n+1} - \\xi|}{|x_{n} - \\xi|^p} = \\mu,\n",
    "\\end{align}\n",
    "\n",
    "then $x_n$ is said to converge with order $p$.\n",
    "If (1) holds with $p = 1$ and $0 < \\mu < 1$,\n",
    "then $x_n$ is said to converge linearly.\n",
    "Finally, if (1) holds with $p = 1$ and $\\mu = 1$,\n",
    "then $x_n$ is said to converge sublinearly.\n",
    "</div>"
   ]
  },
  {
   "cell_type": "markdown",
   "id": "07e4bc2d",
   "metadata": {
    "slideshow": {
     "slide_type": "slide"
    }
   },
   "source": [
    "## Example: different orders of convergence\n",
    "\n",
    "Let $\\lambda \\in (0,1)$. Then\n",
    "\n",
    "* sequence $x_n = \\lambda^n$ converges linearly to zero,\n",
    "* sequence $x_n = \\lambda^{2^n}$ converges quadratically (that is, with order 2) to zero,\n",
    "* sequence $x_n = 1/n$ converges sublinearly to zero,\n",
    "* sequence $x_n = \\lambda^{n!}$ converges superpolynomially to zero in the sense that for all $p > 1$\n",
    "\n",
    "$$\n",
    "\\frac{x_{n+1}}{x_n^p} \\to 0.\n",
    "$$"
   ]
  },
  {
   "cell_type": "code",
   "execution_count": null,
   "id": "8de2e333",
   "metadata": {
    "slideshow": {
     "slide_type": "slide"
    }
   },
   "outputs": [],
   "source": [
    "from matplotlib import pyplot as plt\n",
    "\n",
    "lam = 0.5\n",
    "def x(n):\n",
    "    return lam**n\n",
    "\n",
    "N = 10\n",
    "ns = np.arange(1, N+1)\n",
    "plt.semilogy(ns, x(ns));\n"
   ]
  },
  {
   "cell_type": "markdown",
   "id": "62c67e86",
   "metadata": {},
   "source": [
    "### Big-$\\mathcal{O}$ notation\n",
    "\n",
    "There is a different measure on the order of convergence denoted with the big-$\\mathcal{O}$ notation. We write (for $y_n > 0$)\n",
    "$$ x_n = \\mathcal{O}(y_n) \\ \\text{as} \\ n \\to \\infty, $$\n",
    "if $\\exists C > 0$ and $n_0 > 0$ such that $\\forall n \\geq n_0: \\quad |x_n| \\leq C y_n.$\n",
    "\n",
    "Similarly we could write for functions $f(x)$ and $0 < g(x)$ that\n",
    "$$ f(x) = \\mathcal{O}(g(x)) \\ \\text{as} \\ x \\to a,$$\n",
    "if $\\exists C > 0$ and $\\delta > 0$ such that $\\forall |x - a| < \\delta: \\quad |f(x)| \\leq C g(x).$\n",
    "\n",
    "More info availabe for example in these [lecture notes](https://services.math.duke.edu/~holee/math361-2020/lectures/Lec-general.pdf) from the Duke University (rest of the lecture notes are also good!):\n",
    "> Wong, Jeffrey & Lee, Holden. _Math 361S Lecture Notes: Some background and theorems_"
   ]
  },
  {
   "cell_type": "markdown",
   "id": "ff067b7d",
   "metadata": {},
   "source": [
    "### Example: $x_n = \\lambda^n$\n",
    "\n",
    "For $0 < \\lambda < 1$ the sequence $x_n = \\lambda^n$ converges linearly to 0, but also\n",
    "$$ \\lambda^n = \\mathcal{O}(\\alpha^n), \\ \\forall \\alpha \\geq \\lambda.$$"
   ]
  },
  {
   "cell_type": "markdown",
   "id": "2a84bca5",
   "metadata": {},
   "source": [
    "### Example: cosine = $1 - x^2$ \"plus lower order terms\"\n",
    "\n",
    "Consider the interval $|x| \\leq 1$. There we could write\n",
    "$$ \\cos(x) = 1 - \\frac{x^2}{2} + \\mathcal{O}(x^4),$$\n",
    "since using the Taylor series of cosine we have\n",
    "$$\n",
    "\\cos(x) - \\left(1 - \\frac{x^2}{2}\\right) = \\sum_{n=0}^\\infty \\frac{(-1)^{n}}{(2n)!}x^{2n} - \\left(1 - \\frac{x^2}{2}\\right) \\\\\n",
    "= \\sum_{n=2}^\\infty \\frac{(-1)^{n}}{(2n)!}x^{2n} \\\\\n",
    "\\leq \\sum_{n=2}^\\infty \\frac{1}{(2n)!}x^{2n} \\\\\n",
    "\\leq 2 \\frac{1}{4!}x^{4},\n",
    "$$\n",
    "i.e. $\\cos(x) - 1 + \\frac{x^2}{2} = \\mathcal{O}(x^4)$ as desired."
   ]
  },
  {
   "attachments": {},
   "cell_type": "markdown",
   "id": "f5c64db4-1353-4c0f-84b0-1ae57eb013b6",
   "metadata": {
    "slideshow": {
     "slide_type": "slide"
    },
    "tags": []
   },
   "source": [
    "<div style=\"padding:25px; border: 2px solid gray;\">\n",
    "\n",
    "## Theorem: local _linear_ convergence\n",
    "\n",
    "Let $f$, $\\xi$ and $I$ be as in the local convergence theorem. \n",
    "Suppose that $f'(\\xi) \\ne 0$. Then the sequence $x_{n+1} = f(x_{n})$ converges linearly to $\\xi$ for any initial guess $x_0 \\in I$.\n",
    "</div>"
   ]
  },
  {
   "cell_type": "markdown",
   "id": "3930a9a2-b5d8-40c7-b3d3-1a89760d5d2b",
   "metadata": {
    "slideshow": {
     "slide_type": "subslide"
    },
    "tags": []
   },
   "source": [
    "_Proof_. The _local convergence_ theorem implies that $x_n \\to \\xi$. The mean value theorem implies that there is $\\tilde x_n$ between $\\xi$ and $x_n$ such that \n",
    "\n",
    "$$\n",
    "f(x_n) - f(\\xi) = f'(\\tilde x_n)(x_n - \\xi). \n",
    "$$\n",
    "\n",
    "As $x_n \\to \\xi$, also $\\tilde x_n \\to \\xi$. Recalling that $f'$ is continuous near $\\xi$, we have\n",
    "\n",
    "$$\n",
    "\\frac{|x_{n+1} - \\xi|}{|x_{n} - \\xi|}\n",
    "= \n",
    "\\frac{|f(x_n) - f(\\xi)|}{|x_{n} - \\xi|}\n",
    "= \n",
    "|f'(\\tilde x_n)| \\to |f'(\\xi)| =: \\mu.\n",
    "$$\n",
    "\n",
    "To conclude, we observe that $0 < \\mu < 1$.\n",
    "$\\blacksquare$"
   ]
  },
  {
   "attachments": {},
   "cell_type": "markdown",
   "id": "781aa7c7-78cd-42e5-8aec-6eb51ad049da",
   "metadata": {
    "slideshow": {
     "slide_type": "slide"
    },
    "tags": []
   },
   "source": [
    "<div style=\"padding:25px; border: 2px solid gray;\">\n",
    "\n",
    "## Theorem: local _higher-order_ convergence\n",
    "\n",
    "Let $f$, $\\xi$ and $I$ be as in the local convergence theorem. \n",
    "Suppose that $f$ has continuous derivatives up to order $p \\ge 2$ near $\\xi$,\n",
    "and that $f'(\\xi) = \\dots = f^{(p - 1)}(\\xi) = 0$\n",
    "and $f^{(p)}(\\xi) \\ne 0$. Then the sequence $x_{n+1} = f(x_{n})$ converges with order $p$ to $\\xi$ for any initial guess $x_0 \\in I$.\n",
    "</div>"
   ]
  },
  {
   "cell_type": "markdown",
   "id": "4346f2f6-7a5f-40ad-a3f6-0b6d7ceed8b9",
   "metadata": {
    "slideshow": {
     "slide_type": "subslide"
    }
   },
   "source": [
    "_Proof_. The _local convergence_ theorem implies that $x_n \\to \\xi$. \n",
    "[Taylor's theorem](https://en.wikipedia.org/wiki/Taylor's_theorem#Explicit_formulas_for_the_remainder), with Lagrange form of the remainder, says that there is $\\tilde x_n$ between $\\xi$ and $x_n$ such that \n",
    "\n",
    "$$\n",
    "f(x_n) - f(\\xi) = \\frac{f^{(p)}(\\tilde x_n)}{p!}(x_n - \\xi)^p. \n",
    "$$\n",
    "\n",
    "As $x_n \\to \\xi$, also $\\tilde x_n \\to \\xi$. Recalling that $f^{(p)}$ is continuous near $\\xi$, we have\n",
    "\n",
    "$$\n",
    "\\frac{|x_{n+1} - \\xi|}{|x_{n} - \\xi|^p}\n",
    "= \n",
    "\\frac{|f(x_n) - f(\\xi)|}{|x_{n} - \\xi|^p}\n",
    "= \n",
    "\\frac{|f^{(p)}(\\tilde x_n)|}{p!} \\to \\frac{|f^{(p)}(\\xi)|}{p!} \\ne 0.\n",
    "$$\n",
    "$\\blacksquare$"
   ]
  },
  {
   "attachments": {},
   "cell_type": "markdown",
   "id": "edca75f7-4051-4c22-8b98-286121db7c05",
   "metadata": {
    "slideshow": {
     "slide_type": "slide"
    },
    "tags": []
   },
   "source": [
    "# Relaxation and Newton's method\n",
    "\n",
    "The problem to solve $\\phi(x) = 0$ can be rewritten as the problem to find a fixed point $x = f(x)$.\n",
    "\n",
    "Indeed, these two problems are equivalent if\n",
    "$f(x) = x - \\phi(x)$.\n",
    "\n",
    "<div style=\"padding:25px; border: 2px solid gray;\">\n",
    "\n",
    "## Theorem: relaxation\n",
    "\n",
    "Let $\\phi : \\mathbb R \\to \\mathbb R$ be continuously differentiable near a point $\\xi \\in \\mathbb R$.\n",
    "Suppose that $\\phi(\\xi) = 0$ and $\\phi'(\\xi) > 0$. Then there \n",
    "are an open interval $I$ containing $\\xi$ and $\\lambda > 0$ such that the relaxation iteration \n",
    "\n",
    "$$\n",
    "x_{n+1} = x_n - \\lambda \\phi(x_n), \\quad n=0,1\\dots\n",
    "$$\n",
    "\n",
    "converges to $\\xi$ for any initial guess $x_0 \\in I$.\n",
    "</div>"
   ]
  },
  {
   "cell_type": "markdown",
   "id": "8418162d-c0a8-4b77-936f-c6525dbffe6c",
   "metadata": {
    "slideshow": {
     "slide_type": "notes"
    },
    "tags": []
   },
   "source": [
    "If instead $\\phi(\\xi) = 0$ and $\\phi'(\\xi) < 0$, then we can apply the theorem to $-\\phi$."
   ]
  },
  {
   "cell_type": "markdown",
   "id": "9c61172a-564f-42aa-8129-95806ae22649",
   "metadata": {
    "slideshow": {
     "slide_type": "subslide"
    },
    "tags": []
   },
   "source": [
    "_Proof_. The function $f(x) = x - \\lambda \\phi(x)$ satisfies \n",
    "\n",
    "$$\n",
    "-1 < f'(\\xi) = 1 - \\lambda \\phi'(\\xi) < 1\n",
    "$$\n",
    "\n",
    "for small $\\lambda > 0$, and we can apply the _local convergence_ theorem.\n",
    "$\\blacksquare$\n",
    "\n",
    "Note that the choice $\\lambda = 1/\\phi'(\\xi)$ leads to $f'(\\xi) = 0$\n",
    "and gives a method with at least quadratic convergence. \n",
    "Of course, we typically don't know $\\xi$ (we are solving for it), and hence can not make this optimal choice in practice. "
   ]
  },
  {
   "cell_type": "markdown",
   "id": "7a11db08-15f6-4f0a-8c5a-417be5f126b3",
   "metadata": {
    "slideshow": {
     "slide_type": "slide"
    },
    "tags": []
   },
   "source": [
    "Let's apply relaxation to the \"non-method\" $f(x) = q / x$. In this case \n",
    "\n",
    "$$\n",
    "\\phi(x) = x - \\frac q x, \\quad \\phi'(x) = 1 + \\frac q {x^2}.\n",
    "$$\n",
    "\n",
    "In particular, $\\phi'(\\xi) = 2$ at $\\xi = \\sqrt{q}$. \n",
    "Taking $\\lambda = 1/\\phi'(\\xi) = 1/2$ gives the Babylonian method\n",
    "\n",
    "$$\n",
    "x_{n+1} = x_n - \\frac 1 2 \\phi(x_n) = \\frac 1 2 (x_n + \\frac q {x_n}).\n",
    "$$\n"
   ]
  },
  {
   "cell_type": "markdown",
   "id": "961ea7a6-677e-4299-8877-03ba0369eb6c",
   "metadata": {
    "slideshow": {
     "slide_type": "slide"
    },
    "tags": []
   },
   "source": [
    "## Newton's method\n",
    "\n",
    "Newton's method can be viewed as a generalization of the relaxation iteration where we let $\\lambda$ to be non-constant, and take $\\lambda = 1/\\phi'(x_n)$:\n",
    "\n",
    "$$\n",
    "x_{n+1} = x_n - \\frac {\\phi(x_n)}{\\phi'(x_n)}, \\quad n=0,1\\dots\n",
    "$$\n",
    "\n",
    "Put differently, we take $\\phi'(x_n)$ as a proxy of $\\phi'(\\xi)$. Another, way to arrive to Newton's method is to replace $\\phi(x)$ in the equation $\\phi(x) = 0$\n",
    "by its first order Taylor polynomial at $x = x_n$, that is,\n",
    "\n",
    "$$\n",
    "0 = \\phi(x) \\approx \\phi(x_n) + \\phi'(x_n) (x - x_n).\n",
    "$$\n",
    "\n",
    "Then solving for $x$ gives $x = x_{n+1}$ with $x_{n+1}$ as above.\n",
    "\n",
    "Let us apply Newton's method to the equation $x^2 = q$ and take $\\phi(x) = x^2 - q$.\n",
    "Then\n",
    "\n",
    "$$\n",
    "x_{n+1} = x_n - \\frac {x_n^2 - q} {2 x_n} = \\frac 1 2 (x_n + \\frac q {x_n}),\n",
    "$$\n",
    "\n",
    "the Babylonian method once again."
   ]
  },
  {
   "attachments": {},
   "cell_type": "markdown",
   "id": "adb9999b-490e-49e1-9b8d-85435ae01321",
   "metadata": {
    "slideshow": {
     "slide_type": "slide"
    },
    "tags": []
   },
   "source": [
    "<div style=\"padding:25px; border: 2px solid gray;\">\n",
    "\n",
    "## Theorem: convergence of Newton's method\n",
    "\n",
    "Suppose that $\\phi : \\mathbb R \\to \\mathbb R$ has continuous derivatives up to order 3 near a point $\\xi \\in \\mathbb R$, and that $\\phi(\\xi) = 0$ and $\\phi'(\\xi) \\ne 0$. Then there \n",
    "is an open interval $I$ containing $\\xi$ such that Newton's method \n",
    "\n",
    "$$\n",
    "x_{n+1} = x_n - \\frac {\\phi(x_n)}{\\phi'(x_n)}, \\quad n=0,1\\dots\n",
    "$$\n",
    "\n",
    "converges at least quadratically to $\\xi$ for any initial guess $x_0 \\in I$.\n",
    "</div>"
   ]
  },
  {
   "cell_type": "markdown",
   "id": "7bdde5e3-f125-4456-ad96-062bf634dc88",
   "metadata": {
    "slideshow": {
     "slide_type": "subslide"
    },
    "tags": []
   },
   "source": [
    "_Proof_. The function\n",
    "\n",
    "$$\n",
    "f(x) =  x - \\frac {\\phi(x)}{\\phi'(x)}\n",
    "$$\n",
    "\n",
    "satisfies $f'(\\xi) = 0$, and we can apply the _local higher-order convergence_ theorem.\n",
    "$\\blacksquare$\n",
    "\n",
    "A slightly sharper proof shows that the assumptions can be weakened to $\\phi$ having continuous derivatives up to order 2 near $\\xi$, see Theorem 1.8 of the [the book](#thebook)."
   ]
  },
  {
   "attachments": {},
   "cell_type": "markdown",
   "id": "71485af4-b7d1-49a8-b54b-5f4b22ab9e4e",
   "metadata": {
    "slideshow": {
     "slide_type": "slide"
    },
    "tags": []
   },
   "source": [
    "## Example: Kepler's equation\n",
    "\n",
    "In orbital mechanics, [Kepler's equation](https://en.wikipedia.org/wiki/Kepler%27s_equation) relates various geometric properties of the orbit of a body subject to a central force. It reads\n",
    "\n",
    "$$\n",
    "M = E - e \\sin E\n",
    "$$\n",
    "\n",
    "where $M$ is the mean anomaly, $E$ is the eccentric anomaly, and $e$ is the eccentricity. \n",
    "\n",
    "The first published use by Newton of his eponymous method in an iterative form, and applied to a nonpolynomial equation, is in the second and third editions of\n",
    "his _Philosophiae Naturalis Principia Mathematica_, where it is applied to Kepler's equation. For more details, see Section 6 of\n",
    "\n",
    ">Ypma, Tjalling J. _Historical development of the Newton-Raphson method_. SIAM Rev. 37 (1995), no. 4, 531–551. <https://doi.org/10.1137/1037125>"
   ]
  },
  {
   "attachments": {},
   "cell_type": "markdown",
   "id": "41ab546f-0a90-4fdb-97cc-fd8a51aeb44b",
   "metadata": {
    "slideshow": {
     "slide_type": "slide"
    },
    "tags": []
   },
   "source": [
    "Let us consider the following calculation that is reproduced from p. 148 of\n",
    "\n",
    "> Duffett-Smith, Peter and Zwart, Jonathan. _Practical Astronomy with your Calculator or Spreadsheet_. Cambridge University Press, Cambridge, UK, 2011. (ebook in [Helka](https://helka.helsinki.fi/permalink/358UOH_INST/1h3k2rg/alma9932214283506253))"
   ]
  },
  {
   "attachments": {
    "kepler_eq.png": {
     "image/png": "[encoded data removed]"
    }
   },
   "cell_type": "markdown",
   "id": "e57fb631-f7dd-4479-a970-7789e5fa8f67",
   "metadata": {
    "slideshow": {
     "slide_type": "-"
    },
    "tags": []
   },
   "source": [
    "![kepler_eq.png](attachment:kepler_eq.png)"
   ]
  },
  {
   "cell_type": "code",
   "execution_count": null,
   "id": "502a9903-0ae7-4d7b-a28c-24ea4187064d",
   "metadata": {
    "slideshow": {
     "slide_type": "slide"
    },
    "tags": []
   },
   "outputs": [],
   "source": [
    "# Parameters from the book by Duffett-Smith and Zwart\n",
    "M = 6.108598\n",
    "E0 = 5.31\n",
    "e = 0.9673 # eccentricity of the orbit of Halley is given on p. 145\n",
    "\n",
    "# Solve Kepler's equation  E - e sin(E) - M = 0 \n",
    "\n",
    "def f(E):\n",
    "    return E - e*np.sin(E) - M\n",
    "def fprime(E):\n",
    "    return 1 - e*np.cos(E)\n",
    "\n",
    "def newton_demo(f, x0, fprime, max_steps = 5):\n",
    "    '''Newton's method with a fixed number of steps'''\n",
    "    x = x0\n",
    "    for n in range(max_steps):\n",
    "        x = x - f(x)/fprime(x)\n",
    "    return x\n",
    "\n",
    "E = newton_demo(f, E0, fprime)\n",
    "print(f'newton_demo: {E = }')\n",
    "    \n",
    "import scipy.optimize as opt\n",
    "E = opt.newton(f, E0, fprime)\n",
    "print(f'opt.newton: {E  = }')\n"
   ]
  },
  {
   "cell_type": "markdown",
   "id": "040bc38d-caf5-494c-840d-5181ff4713e5",
   "metadata": {
    "slideshow": {
     "slide_type": "slide"
    },
    "tags": []
   },
   "source": [
    "## Example: global behavior of Newton's method\n",
    "\n",
    "Consider\n",
    "\n",
    "$$\n",
    "f(x) = x \\exp(- x^2).\n",
    "$$\n",
    "\n",
    "The only solution to $f(x) = 0$ is $x = 0$, and $f'(0) = 1$. Hence Newton's method converges starting from an initial guess $x_0$ close enough to the origin. But it does not converge if the initial guess is not good enough. "
   ]
  },
  {
   "cell_type": "code",
   "execution_count": null,
   "id": "cf3dd178-fbb9-4399-be5a-724aacab80e2",
   "metadata": {
    "slideshow": {
     "slide_type": "slide"
    }
   },
   "outputs": [],
   "source": [
    "def f(x):\n",
    "    return x * np.exp(-x**2)\n",
    "\n",
    "xs = np.linspace(-4, 4)\n",
    "plt.plot(xs, f(xs)); \n",
    "\n",
    "x0 = 1\n",
    "plt.plot([x0, x0], [-0.5, 0.5], 'r');\n"
   ]
  },
  {
   "cell_type": "code",
   "execution_count": null,
   "id": "3fa5f83c-3552-481b-b2e4-1a6d0e00291f",
   "metadata": {
    "slideshow": {
     "slide_type": "slide"
    }
   },
   "outputs": [],
   "source": [
    "def fprime(x):\n",
    "    return (1 - 2*x**2) * np.exp(-x**2)\n",
    "\n",
    "x = newton_demo(f, x0, fprime, max_steps=100)\n",
    "print(f'{x0 = }, {x = }')"
   ]
  },
  {
   "cell_type": "markdown",
   "id": "437cf814",
   "metadata": {},
   "source": [
    "## Example: fast inverse square root\n",
    "\n",
    "3D computer graphics require massive number of computations and in particular simulating realistic lighting requires computing angles of incidence between incoming ray $\\vec{r}$ and surface $\\vec{s}$. Their angle $\\theta$ is given by\n",
    "$$ \\cos(\\theta) = \\frac{\\vec{r}}{\\|\\vec{r}\\|} \\cdot \\frac{\\vec{s}}{\\|\\vec{s}\\|}. $$\n",
    "The products and sums are fast to compute but the normalization requires computing the inverse square root: $f(y) = \\frac{1}{\\sqrt{y}}$ as fast and efficiently as possible. Here $y = r_1^2 + r_2^2 + r_3^2 = \\|\\vec{r}\\|^2$.\n",
    "\n",
    "A famous piece of computer graphics history is this function used at least in the 1999 video game [Quake III](https://en.wikipedia.org/wiki/Quake_III_Arena). This implementation is by [Greg Walsh](https://www.beyond3d.com/content/articles/15/) but the method was already known in [1986](https://www.netlib.org/fdlibm/e_sqrt.c).\n",
    "\n",
    "```\n",
    "float q_rsqrt(float number)\n",
    "{\n",
    "  long i;\n",
    "  float x2, y;\n",
    "  const float threehalfs = 1.5F;\n",
    "\n",
    "  x2 = number * 0.5F;\n",
    "  y  = number;\n",
    "  i  = * ( long * ) &y;                       // evil floating point bit level hacking\n",
    "  i  = 0x5f3759df - ( i >> 1 );               // what the fuck?\n",
    "  y  = * ( float * ) &i;\n",
    "  y  = y * ( threehalfs - ( x2 * y * y ) );   // 1st iteration\n",
    "  // y  = y * ( threehalfs - ( x2 * y * y ) );   // 2nd iteration, this can be removed\n",
    "\n",
    "  return y;\n",
    "}\n",
    "```\n",
    "\n",
    "The integer `i` is obtained by directly setting the floating point number `number` into an integer. Since floats are stored in binary, this is approximately same as taking base-2 logarithm. The second line with a funny comment contains a bit shift `>>` (corresponding to division by 2) and a constant. Alltogether this gives the approximation\n",
    "$$ i \\approx c - \\frac{1}{2} \\log_2(x). $$\n",
    "`y` is then set back to a float (same as taking the base-2 exponent) and a single iterative step is taken:\n",
    "$$y_1 = y_0 \\left( \\frac{3}{2} - \\frac{x}{2} y_0^2  \\right), \\ \\text{where} \\ y_0 = 2^i. $$\n",
    "\n",
    "If we apply the Newton's method for $\\phi(y) = \\frac{1}{y^2} - x$ (for which the root is obtained when $y = 1/\\sqrt{x}$) we get\n",
    "$$ y_{n+1} = y_n - \\frac{y_n^{-2} - x}{-2/y_n^3} = y_n + \\frac{1}{2}\\left( y_n - x y_n^3 \\right) = y_n \\left( \\frac{3}{2} - \\frac{x}{2} y_n^2 \\right). $$\n",
    "\n",
    "So the \"evil\" bit hacking gives us the initial guess $y_0 = 2^{i} \\approx \\frac{2^c}{\\sqrt{x}},$ where the _magic number_ $c \\ (\\approx 0.0430357)$ is a parameter used for tuning the approximation. This initial guess is then made better by the Newton's method step. Most importantly all variables are only used in multiplication and addition, and thanks to the good initial guess, a single iteration gives satisfying results. This made it a really fast approximation (at the time).\n",
    "\n",
    "Check out the [Wikipedia article](https://en.wikipedia.org/wiki/Fast_inverse_square_root) and in particular this [excellent video](https://www.youtube.com/watch?v=p8u_k2LIZyo) which goes more into detail about the bit shifting step and the choice of the constant $c$.\n",
    "\n",
    "Note that modern computers have faster and even more accurate methods for computing inverse square roots."
   ]
  },
  {
   "attachments": {},
   "cell_type": "markdown",
   "id": "b3583b1a-bf5b-436c-9e0e-5f014faa4031",
   "metadata": {
    "slideshow": {
     "slide_type": "slide"
    }
   },
   "source": [
    "# On the optimization sub-package of SciPy\n",
    "\n",
    "We have already seen [newton](https://docs.scipy.org/doc/scipy/reference/generated/scipy.optimize.newton.html), the implementation of Newton's method in SciPy. Calling `newton` without giving the derivative makes SciPy to use the secant method, described in Section 1.5 of [the book](#thebook). The bisection method is given by [bisect](https://docs.scipy.org/doc/scipy/reference/generated/scipy.optimize.bisect.html) and it is described in Section 1.6 of [the book](#thebook).\n",
    "\n",
    "Most of the methods in the optimization sub-package are outside the scope of this course. Some of them are described in the optimization course at UH. For more information on the sub-package see the [tutorial](https://docs.scipy.org/doc/scipy/tutorial/optimize.html)."
   ]
  },
  {
   "cell_type": "code",
   "execution_count": null,
   "id": "8c80b432-0fca-4844-a126-1be49576028f",
   "metadata": {
    "slideshow": {
     "slide_type": "slide"
    }
   },
   "outputs": [],
   "source": [
    "# Compare Newton, secant and bisection\n",
    "def f(x):\n",
    "    return np.exp(x) - x - 2\n",
    "def fprime(x):\n",
    "    return np.exp(x) - 1\n",
    "x0, x1 = 1, 3\n",
    "\n",
    "x, rres = opt.newton(f, x0, fprime, full_output=True) \n",
    "print(f\"     Newton's method converged to {x} in {rres.iterations} steps\")\n",
    "x, rres = opt.newton(f, x0, x1=x1, full_output=True) \n",
    "print(f'   The secant method converged to {x} in {rres.iterations} steps')\n",
    "x, rres = opt.bisect(f, x0, x1, full_output=True) \n",
    "print(f\"The bisection method converged to {x} in {rres.iterations} steps\")"
   ]
  },
  {
   "cell_type": "code",
   "execution_count": null,
   "id": "f40f4aba-d132-45e8-99ea-4d9b848fa180",
   "metadata": {
    "slideshow": {
     "slide_type": "slide"
    }
   },
   "outputs": [],
   "source": []
  }
 ],
 "metadata": {
  "celltoolbar": "Slideshow",
  "kernelspec": {
   "display_name": "Python 3",
   "language": "python",
   "name": "python3"
  },
  "language_info": {
   "codemirror_mode": {
    "name": "ipython",
    "version": 3
   },
   "file_extension": ".py",
   "mimetype": "text/x-python",
   "name": "python",
   "nbconvert_exporter": "python",
   "pygments_lexer": "ipython3",
   "version": "3.9.7"
  },
  "toc-autonumbering": true,
  "vscode": {
   "interpreter": {
    "hash": "916dbcbb3f70747c44a77c7bcd40155683ae19c65e1c03b4aa3499c5328201f1"
   }
  }
 },
 "nbformat": 4,
 "nbformat_minor": 5
}
